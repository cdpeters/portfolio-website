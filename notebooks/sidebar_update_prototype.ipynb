{
 "cells": [
  {
   "cell_type": "code",
   "execution_count": 1,
   "id": "50f5d068-2cb8-4a24-8d52-9de395731ef4",
   "metadata": {
    "tags": []
   },
   "outputs": [],
   "source": [
    "import random\n",
    "import re\n",
    "from typing import Any\n",
    "\n",
    "import pandas as pd\n",
    "from dash import dcc, html\n",
    "from rich.pretty import install, pprint"
   ]
  },
  {
   "cell_type": "code",
   "execution_count": 2,
   "id": "3c41758e-3874-4cb6-9b06-86e9a17d043d",
   "metadata": {},
   "outputs": [],
   "source": [
    "install(indent_guides=False, expand_all=True)"
   ]
  },
  {
   "cell_type": "markdown",
   "id": "f2e1f898-ce54-40a4-87c2-95e2c50ff86b",
   "metadata": {},
   "source": [
    "### Refactor `update_sidebar_style` Function to Handle Any Number of Pages"
   ]
  },
  {
   "cell_type": "code",
   "execution_count": null,
   "id": "b521039a-9612-4fa6-a81a-2a5c59f00779",
   "metadata": {
    "tags": []
   },
   "outputs": [],
   "source": [
    "num_pages = 7\n",
    "\n",
    "paths = [f\"/{path}\" for path in range(num_pages)]\n",
    "input_icon_src = {\n",
    "    path.replace(\"/\", \"\"): f\"/assets/images{path}_light.svg\" for path in paths\n",
    "}\n",
    "input_link_class = {\n",
    "    path.replace(\n",
    "        \"/\", \"\"\n",
    "    ): \"px-4 py-2 flex space-x-2 items-center bg-slate-800 text-emerald-50 hover:bg-slate-700\"\n",
    "    for path in paths\n",
    "}\n",
    "pathname = random.choice(paths)\n",
    "\n",
    "available_paths = paths.copy()\n",
    "available_paths.remove(pathname)\n",
    "\n",
    "COLORS = {\n",
    "    \"bg_color_prefix\": \"bg\",\n",
    "    \"bg_color_dark\": \"bg-slate-800\",\n",
    "    \"bg_color_light\": \"bg-emerald-50\",\n",
    "    \"text_color_prefix\": \"text\",\n",
    "    \"text_color_dark\": \"text-slate-800\",\n",
    "    \"text_color_light\": \"text-emerald-50\",\n",
    "    \"hover_color_dark\": \"hover:bg-slate-700\",\n",
    "}"
   ]
  },
  {
   "cell_type": "code",
   "execution_count": 11,
   "id": "fc5215ff-ebc9-46d4-8089-2bc67f606808",
   "metadata": {},
   "outputs": [
    {
     "data": {
      "text/html": [
       "<pre style=\"white-space:pre;overflow-x:auto;line-height:normal;font-family:Menlo,'DejaVu Sans Mono',consolas,'Courier New',monospace\"></pre>\n"
      ],
      "text/plain": []
     },
     "metadata": {},
     "output_type": "display_data"
    },
    {
     "data": {
      "text/plain": [
       "\u001b[32m'/0'\u001b[0m"
      ]
     },
     "execution_count": 11,
     "metadata": {},
     "output_type": "execute_result"
    }
   ],
   "source": [
    "pathname"
   ]
  },
  {
   "cell_type": "code",
   "execution_count": 12,
   "id": "b2581b52-0c71-426f-bdaa-0ba0e4ac8c8d",
   "metadata": {
    "tags": []
   },
   "outputs": [
    {
     "data": {
      "text/html": [
       "<pre style=\"white-space:pre;overflow-x:auto;line-height:normal;font-family:Menlo,'DejaVu Sans Mono',consolas,'Courier New',monospace\"></pre>\n"
      ],
      "text/plain": []
     },
     "metadata": {},
     "output_type": "display_data"
    },
    {
     "data": {
      "text/plain": [
       "\n",
       "\u001b[1m{\u001b[0m\n",
       "    \u001b[32m'0'\u001b[0m: \u001b[32m'/assets/images/0_light.svg'\u001b[0m,\n",
       "    \u001b[32m'1'\u001b[0m: \u001b[32m'/assets/images/1_light.svg'\u001b[0m,\n",
       "    \u001b[32m'2'\u001b[0m: \u001b[32m'/assets/images/2_light.svg'\u001b[0m,\n",
       "    \u001b[32m'3'\u001b[0m: \u001b[32m'/assets/images/3_light.svg'\u001b[0m,\n",
       "    \u001b[32m'4'\u001b[0m: \u001b[32m'/assets/images/4_light.svg'\u001b[0m,\n",
       "    \u001b[32m'5'\u001b[0m: \u001b[32m'/assets/images/5_light.svg'\u001b[0m,\n",
       "    \u001b[32m'6'\u001b[0m: \u001b[32m'/assets/images/6_light.svg'\u001b[0m\n",
       "\u001b[1m}\u001b[0m"
      ]
     },
     "execution_count": 12,
     "metadata": {},
     "output_type": "execute_result"
    }
   ],
   "source": [
    "input_icon_src"
   ]
  },
  {
   "cell_type": "code",
   "execution_count": 13,
   "id": "8fbbfc63-f13a-4c05-996f-c8da2ee8ea6b",
   "metadata": {
    "tags": []
   },
   "outputs": [
    {
     "data": {
      "text/html": [
       "<pre style=\"white-space:pre;overflow-x:auto;line-height:normal;font-family:Menlo,'DejaVu Sans Mono',consolas,'Courier New',monospace\"></pre>\n"
      ],
      "text/plain": []
     },
     "metadata": {},
     "output_type": "display_data"
    },
    {
     "data": {
      "text/plain": [
       "\n",
       "\u001b[1m{\u001b[0m\n",
       "    \u001b[32m'0'\u001b[0m: \u001b[32m'px-4 py-2 flex space-x-2 items-center bg-slate-800 text-emerald-50 hover:bg-slate-700'\u001b[0m,\n",
       "    \u001b[32m'1'\u001b[0m: \u001b[32m'px-4 py-2 flex space-x-2 items-center bg-slate-800 text-emerald-50 hover:bg-slate-700'\u001b[0m,\n",
       "    \u001b[32m'2'\u001b[0m: \u001b[32m'px-4 py-2 flex space-x-2 items-center bg-slate-800 text-emerald-50 hover:bg-slate-700'\u001b[0m,\n",
       "    \u001b[32m'3'\u001b[0m: \u001b[32m'px-4 py-2 flex space-x-2 items-center bg-slate-800 text-emerald-50 hover:bg-slate-700'\u001b[0m,\n",
       "    \u001b[32m'4'\u001b[0m: \u001b[32m'px-4 py-2 flex space-x-2 items-center bg-slate-800 text-emerald-50 hover:bg-slate-700'\u001b[0m,\n",
       "    \u001b[32m'5'\u001b[0m: \u001b[32m'px-4 py-2 flex space-x-2 items-center bg-slate-800 text-emerald-50 hover:bg-slate-700'\u001b[0m,\n",
       "    \u001b[32m'6'\u001b[0m: \u001b[32m'px-4 py-2 flex space-x-2 items-center bg-slate-800 text-emerald-50 hover:bg-slate-700'\u001b[0m\n",
       "\u001b[1m}\u001b[0m"
      ]
     },
     "execution_count": 13,
     "metadata": {},
     "output_type": "execute_result"
    }
   ],
   "source": [
    "input_link_class"
   ]
  },
  {
   "cell_type": "code",
   "execution_count": 15,
   "id": "51d3ffd0-1cda-4a53-8cd2-ea0540fe911a",
   "metadata": {
    "tags": []
   },
   "outputs": [
    {
     "data": {
      "text/html": [
       "<pre style=\"white-space:pre;overflow-x:auto;line-height:normal;font-family:Menlo,'DejaVu Sans Mono',consolas,'Courier New',monospace\"><span style=\"font-weight: bold\">[</span><span style=\"color: #008000; text-decoration-color: #008000\">'/1'</span>, <span style=\"color: #008000; text-decoration-color: #008000\">'/2'</span>, <span style=\"color: #008000; text-decoration-color: #008000\">'/3'</span>, <span style=\"color: #008000; text-decoration-color: #008000\">'/4'</span>, <span style=\"color: #008000; text-decoration-color: #008000\">'/5'</span>, <span style=\"color: #008000; text-decoration-color: #008000\">'/6'</span><span style=\"font-weight: bold\">]</span>\n",
       "</pre>\n"
      ],
      "text/plain": [
       "\u001b[1m[\u001b[0m\u001b[32m'/1'\u001b[0m, \u001b[32m'/2'\u001b[0m, \u001b[32m'/3'\u001b[0m, \u001b[32m'/4'\u001b[0m, \u001b[32m'/5'\u001b[0m, \u001b[32m'/6'\u001b[0m\u001b[1m]\u001b[0m\n"
      ]
     },
     "metadata": {},
     "output_type": "display_data"
    }
   ],
   "source": [
    "pprint(available_paths)"
   ]
  },
  {
   "cell_type": "code",
   "execution_count": 3,
   "id": "6775a403-874a-4e8b-94d2-03b01afe2611",
   "metadata": {
    "jupyter": {
     "source_hidden": true
    },
    "tags": []
   },
   "outputs": [],
   "source": [
    "def update_utility_classes(\n",
    "    current_classes: str,\n",
    "    remove_classes: list[str] | None = None,\n",
    "    add_classes: list[str] | None = None,\n",
    "    ignore_prefix_warning: bool = False,\n",
    ") -> str:\n",
    "    \"\"\"Update a utility class string by removing and/or adding classes.\n",
    "\n",
    "    Removes/adds utility classes from/to the `current_classes` string. At least one of\n",
    "    the arguments `remove_classes` or `add_classes` must be provided. These arguments\n",
    "    are given in the form of a list of strings representing the classes to be removed or\n",
    "    added.\n",
    "\n",
    "    If an incoming add class has a prefix that matches a class(es) in the\n",
    "    `current_classes` string, a warning will be shown but the add will still be\n",
    "    completed. The warning is there to make it known that the addition of the class\n",
    "    could override these prefix matched existing classes in the `current_classes`\n",
    "    string. The developer should evaluate the add and ensure that this is not the case.\n",
    "    It is possible that there is no overriding behavior even when there are multiple\n",
    "    classes with the same prefix. If this is the case, the warning can be suppressed by\n",
    "    setting the `ignore_prefix_warning` to True.\n",
    "\n",
    "    Parameters\n",
    "    ----------\n",
    "    current_classes : str\n",
    "        Current utility class string.\n",
    "    remove_classes : list[str] | None, optional\n",
    "        Classes to be removed, by default None.\n",
    "    add_classes : list[str] | None, optional\n",
    "        Classes to be added, by default None.\n",
    "    ignore_prefix_warning : bool, optional\n",
    "        Flag for suppressing the prefix warning, by default False.\n",
    "\n",
    "    Returns\n",
    "    -------\n",
    "    str\n",
    "        Updated utility class string.\n",
    "    \"\"\"\n",
    "    # Check if both optional arguments were not provided.\n",
    "    if remove_classes is None and add_classes is None:\n",
    "        raise RuntimeError(\n",
    "            \"Both arguments `remove_classes` and `add_classes` were not provided. \"\n",
    "            \"Please provide at least one of these arguments.\"\n",
    "        )\n",
    "\n",
    "    current_class_list = current_classes.split()\n",
    "    # Pattern to match the prefix of a utility class.\n",
    "    prefix_pattern = r\"^-?([a-z:]+)\"\n",
    "\n",
    "    # Remove and/or Add Classes --------------------------------------------------------\n",
    "    if remove_classes:\n",
    "        for remove_class in remove_classes:\n",
    "            try:\n",
    "                current_class_list.remove(remove_class)\n",
    "            except ValueError as err:\n",
    "                raise ValueError(\n",
    "                    f\"The string '{remove_class}', from the `remove_classes` argument, \"\n",
    "                    f\"was not found in the `current_classes` string:\\n\"\n",
    "                    f\"'{current_classes}'\"\n",
    "                ) from err\n",
    "\n",
    "    if add_classes:\n",
    "        for add_class in add_classes:\n",
    "            # Check if the class is already in the `current_class_list`.\n",
    "            if add_class in current_class_list:\n",
    "                raise RuntimeError(\n",
    "                    f\"The string '{add_class}', from the `add_classes` argument, is \"\n",
    "                    f\"already found within the `current_classes` string:\\n\"\n",
    "                    f\"'{current_classes}'\"\n",
    "                )\n",
    "\n",
    "            # Capture the prefix of the incoming add class.\n",
    "            try:\n",
    "                match = re.search(prefix_pattern, add_class)\n",
    "                assert match is not None\n",
    "                prefix = match.group(1)\n",
    "            except AttributeError as err:\n",
    "                raise RuntimeError(\n",
    "                    f\"The string '{add_class}', from the `add_classes` argument, is \"\n",
    "                    f\"not a valid utility class.\"\n",
    "                ) from err\n",
    "\n",
    "            # Capture all classes from `current_classes_list` that match the prefix for\n",
    "            # the current add class.\n",
    "            prefix_match_classes = []\n",
    "            for util_class in current_class_list:\n",
    "                prefix_match = re.search(prefix, util_class)\n",
    "                if prefix_match:\n",
    "                    prefix_match_classes.append(util_class)\n",
    "\n",
    "            # Warn that there are matches that could result in classes that get\n",
    "            # overridden by the add. This is a warning and not an error because it is\n",
    "            # possible to have more than one utility class with the same prefix and not\n",
    "            # have any overriding behavior.\n",
    "            if prefix_match_classes:\n",
    "                if not ignore_prefix_warning:\n",
    "                    print(\n",
    "                        f\"WARNING: Upon adding the string '{add_class}', the following \"\n",
    "                        f\"class(es) with the same prefix '{prefix}' were found within \"\n",
    "                        f\"the `current_classes` string: {prefix_match_classes}\\nIf \"\n",
    "                        f\"this addition does not result in conflicts, this warning can \"\n",
    "                        f\"be suppressed by setting the `ignore_prefix_warning` \"\n",
    "                        f\"argument to True.\\n\"\n",
    "                    )\n",
    "            current_class_list.append(add_class)\n",
    "    return \" \".join(current_class_list)"
   ]
  },
  {
   "cell_type": "code",
   "execution_count": 4,
   "id": "660c42ed-31e9-4d17-a266-c713cfec7f07",
   "metadata": {
    "tags": []
   },
   "outputs": [],
   "source": [
    "def click_new_page(pathname, available_paths):\n",
    "    \"\"\"Simulate a click on a page link.\"\"\"\n",
    "    choice = random.choice(available_paths)\n",
    "    available_paths.append(pathname)\n",
    "    available_paths.remove(choice)\n",
    "\n",
    "    return choice, available_paths"
   ]
  },
  {
   "cell_type": "code",
   "execution_count": 5,
   "id": "d5195746-88a7-4f5b-8462-24bb5cc3e9f6",
   "metadata": {},
   "outputs": [],
   "source": [
    "def update_sidebar_style(pathname, input_icon_src, input_link_class):\n",
    "    \"\"\"Update icons and link colors when a link is active.\n",
    "\n",
    "    Parameters\n",
    "    ----------\n",
    "    pathname : str\n",
    "        Current pathname of the app.\n",
    "    input_icon_src : dict[str, str]\n",
    "        Contains the src attribute for each page link's icon.\n",
    "    input_link_class : dict[str, str]\n",
    "        Contains the class attribute for each page link.\n",
    "\n",
    "    Returns\n",
    "    -------\n",
    "    dict[str, dict[str, str]]\n",
    "        Contains the updated icon src attributes and page link class attributes.\n",
    "    \"\"\"\n",
    "    icon_src = input_icon_src.copy()\n",
    "    link_class = input_link_class.copy()\n",
    "\n",
    "    # Reset previously active page link to styling for inactive state ------------------\n",
    "    iis = pd.Series(link_class)\n",
    "    pattern_active = COLORS[\"bg_color_light\"]\n",
    "    is_active = iis[iis.str.contains(pattern_active)]\n",
    "\n",
    "    # If there is a page with a dark icon, change it back to light icon.\n",
    "    if not is_active.empty:\n",
    "        previous_pathname = is_active.index[0]\n",
    "        icon_src[previous_pathname] = re.sub(\n",
    "            r\"_dark\\.\", \"_light.\", icon_src[previous_pathname]\n",
    "        )\n",
    "        link_class[previous_pathname] = update_utility_classes(\n",
    "            current_classes=is_active.loc[previous_pathname],\n",
    "            remove_classes=[COLORS[\"bg_color_light\"], COLORS[\"text_color_dark\"]],\n",
    "            add_classes=[\n",
    "                COLORS[\"bg_color_dark\"],\n",
    "                COLORS[\"text_color_light\"],\n",
    "                COLORS[\"hover_color_dark\"],\n",
    "            ],\n",
    "        )\n",
    "    else:\n",
    "        previous_pathname = None\n",
    "\n",
    "    # Update current active page link to styling for active state ----------------------\n",
    "    if pathname == \"/\":\n",
    "        page = \"home\"\n",
    "    else:\n",
    "        page = pathname.replace(\"/\", \"\")\n",
    "\n",
    "    # Try/except is used because it is possible to enter a route that doesn't exist,\n",
    "    # resulting in a KeyError when trying to access that `page` name.\n",
    "    try:\n",
    "        icon_src[page] = re.sub(r\"_light\\.\", \"_dark.\", icon_src[page])\n",
    "        link_class[page] = update_utility_classes(\n",
    "            current_classes=link_class[page],\n",
    "            remove_classes=[\n",
    "                COLORS[\"bg_color_dark\"],\n",
    "                COLORS[\"text_color_light\"],\n",
    "                COLORS[\"hover_color_dark\"],\n",
    "            ],\n",
    "            add_classes=[COLORS[\"bg_color_light\"], COLORS[\"text_color_dark\"]],\n",
    "        )\n",
    "    except KeyError:\n",
    "        print(f\"The page route '{page}' does not exist.\")\n",
    "\n",
    "    return {\n",
    "        \"output_icon_src\": {**icon_src},\n",
    "        \"output_link_class\": {**link_class},\n",
    "    }"
   ]
  },
  {
   "cell_type": "code",
   "execution_count": 6,
   "id": "10fb29a8-7ae1-4a24-ba0d-de8387c7cf69",
   "metadata": {
    "tags": []
   },
   "outputs": [
    {
     "name": "stdout",
     "output_type": "stream",
     "text": [
      "Load Page\n",
      "starting pathname: /4\n",
      "starting input_icon_src: {'0': '/assets/images/0_light.svg', '1': '/assets/images/1_light.svg', '2': '/assets/images/2_light.svg', '3': '/assets/images/3_light.svg', '4': '/assets/images/4_light.svg', '5': '/assets/images/5_light.svg', '6': '/assets/images/6_light.svg'}\n",
      "starting input_link_class: {'0': 'px-4 py-2 flex space-x-2 items-center bg-slate-800 text-emerald-50 hover:bg-slate-700', '1': 'px-4 py-2 flex space-x-2 items-center bg-slate-800 text-emerald-50 hover:bg-slate-700', '2': 'px-4 py-2 flex space-x-2 items-center bg-slate-800 text-emerald-50 hover:bg-slate-700', '3': 'px-4 py-2 flex space-x-2 items-center bg-slate-800 text-emerald-50 hover:bg-slate-700', '4': 'px-4 py-2 flex space-x-2 items-center bg-slate-800 text-emerald-50 hover:bg-slate-700', '5': 'px-4 py-2 flex space-x-2 items-center bg-slate-800 text-emerald-50 hover:bg-slate-700', '6': 'px-4 py-2 flex space-x-2 items-center bg-slate-800 text-emerald-50 hover:bg-slate-700'}\n",
      "On Load, Callback Fires\n",
      "output_icon_src: {'0': '/assets/images/0_light.svg', '1': '/assets/images/1_light.svg', '2': '/assets/images/2_light.svg', '3': '/assets/images/3_light.svg', '4': '/assets/images/4_dark.svg', '5': '/assets/images/5_light.svg', '6': '/assets/images/6_light.svg'}\n",
      "output_link_class: {'0': 'px-4 py-2 flex space-x-2 items-center bg-slate-800 text-emerald-50 hover:bg-slate-700', '1': 'px-4 py-2 flex space-x-2 items-center bg-slate-800 text-emerald-50 hover:bg-slate-700', '2': 'px-4 py-2 flex space-x-2 items-center bg-slate-800 text-emerald-50 hover:bg-slate-700', '3': 'px-4 py-2 flex space-x-2 items-center bg-slate-800 text-emerald-50 hover:bg-slate-700', '4': 'px-4 py-2 flex space-x-2 items-center bg-emerald-50 text-slate-800', '5': 'px-4 py-2 flex space-x-2 items-center bg-slate-800 text-emerald-50 hover:bg-slate-700', '6': 'px-4 py-2 flex space-x-2 items-center bg-slate-800 text-emerald-50 hover:bg-slate-700'}\n",
      "------------------------\n",
      "Click On New Page\n",
      "pathname: /5\n",
      "Callback Fires\n",
      "output_icon_src: {'0': '/assets/images/0_light.svg', '1': '/assets/images/1_light.svg', '2': '/assets/images/2_light.svg', '3': '/assets/images/3_light.svg', '4': '/assets/images/4_light.svg', '5': '/assets/images/5_dark.svg', '6': '/assets/images/6_light.svg'}\n",
      "output_link_class: {'0': 'px-4 py-2 flex space-x-2 items-center bg-slate-800 text-emerald-50 hover:bg-slate-700', '1': 'px-4 py-2 flex space-x-2 items-center bg-slate-800 text-emerald-50 hover:bg-slate-700', '2': 'px-4 py-2 flex space-x-2 items-center bg-slate-800 text-emerald-50 hover:bg-slate-700', '3': 'px-4 py-2 flex space-x-2 items-center bg-slate-800 text-emerald-50 hover:bg-slate-700', '4': 'px-4 py-2 flex space-x-2 items-center bg-slate-800 text-emerald-50 hover:bg-slate-700', '5': 'px-4 py-2 flex space-x-2 items-center bg-emerald-50 text-slate-800', '6': 'px-4 py-2 flex space-x-2 items-center bg-slate-800 text-emerald-50 hover:bg-slate-700'}\n",
      "------------------------\n",
      "Click On New Page\n",
      "pathname: /6\n",
      "Callback Fires\n",
      "output_icon_src: {'0': '/assets/images/0_light.svg', '1': '/assets/images/1_light.svg', '2': '/assets/images/2_light.svg', '3': '/assets/images/3_light.svg', '4': '/assets/images/4_light.svg', '5': '/assets/images/5_light.svg', '6': '/assets/images/6_dark.svg'}\n",
      "output_link_class: {'0': 'px-4 py-2 flex space-x-2 items-center bg-slate-800 text-emerald-50 hover:bg-slate-700', '1': 'px-4 py-2 flex space-x-2 items-center bg-slate-800 text-emerald-50 hover:bg-slate-700', '2': 'px-4 py-2 flex space-x-2 items-center bg-slate-800 text-emerald-50 hover:bg-slate-700', '3': 'px-4 py-2 flex space-x-2 items-center bg-slate-800 text-emerald-50 hover:bg-slate-700', '4': 'px-4 py-2 flex space-x-2 items-center bg-slate-800 text-emerald-50 hover:bg-slate-700', '5': 'px-4 py-2 flex space-x-2 items-center bg-slate-800 text-emerald-50 hover:bg-slate-700', '6': 'px-4 py-2 flex space-x-2 items-center bg-emerald-50 text-slate-800'}\n",
      "------------------------\n",
      "Click On New Page\n",
      "pathname: /1\n",
      "Callback Fires\n",
      "output_icon_src: {'0': '/assets/images/0_light.svg', '1': '/assets/images/1_dark.svg', '2': '/assets/images/2_light.svg', '3': '/assets/images/3_light.svg', '4': '/assets/images/4_light.svg', '5': '/assets/images/5_light.svg', '6': '/assets/images/6_light.svg'}\n",
      "output_link_class: {'0': 'px-4 py-2 flex space-x-2 items-center bg-slate-800 text-emerald-50 hover:bg-slate-700', '1': 'px-4 py-2 flex space-x-2 items-center bg-emerald-50 text-slate-800', '2': 'px-4 py-2 flex space-x-2 items-center bg-slate-800 text-emerald-50 hover:bg-slate-700', '3': 'px-4 py-2 flex space-x-2 items-center bg-slate-800 text-emerald-50 hover:bg-slate-700', '4': 'px-4 py-2 flex space-x-2 items-center bg-slate-800 text-emerald-50 hover:bg-slate-700', '5': 'px-4 py-2 flex space-x-2 items-center bg-slate-800 text-emerald-50 hover:bg-slate-700', '6': 'px-4 py-2 flex space-x-2 items-center bg-slate-800 text-emerald-50 hover:bg-slate-700'}\n",
      "------------------------\n",
      "Click On New Page\n",
      "pathname: /6\n",
      "Callback Fires\n",
      "output_icon_src: {'0': '/assets/images/0_light.svg', '1': '/assets/images/1_light.svg', '2': '/assets/images/2_light.svg', '3': '/assets/images/3_light.svg', '4': '/assets/images/4_light.svg', '5': '/assets/images/5_light.svg', '6': '/assets/images/6_dark.svg'}\n",
      "output_link_class: {'0': 'px-4 py-2 flex space-x-2 items-center bg-slate-800 text-emerald-50 hover:bg-slate-700', '1': 'px-4 py-2 flex space-x-2 items-center bg-slate-800 text-emerald-50 hover:bg-slate-700', '2': 'px-4 py-2 flex space-x-2 items-center bg-slate-800 text-emerald-50 hover:bg-slate-700', '3': 'px-4 py-2 flex space-x-2 items-center bg-slate-800 text-emerald-50 hover:bg-slate-700', '4': 'px-4 py-2 flex space-x-2 items-center bg-slate-800 text-emerald-50 hover:bg-slate-700', '5': 'px-4 py-2 flex space-x-2 items-center bg-slate-800 text-emerald-50 hover:bg-slate-700', '6': 'px-4 py-2 flex space-x-2 items-center bg-emerald-50 text-slate-800'}\n",
      "------------------------\n",
      "Click On New Page\n",
      "pathname: /0\n",
      "Callback Fires\n",
      "output_icon_src: {'0': '/assets/images/0_dark.svg', '1': '/assets/images/1_light.svg', '2': '/assets/images/2_light.svg', '3': '/assets/images/3_light.svg', '4': '/assets/images/4_light.svg', '5': '/assets/images/5_light.svg', '6': '/assets/images/6_light.svg'}\n",
      "output_link_class: {'0': 'px-4 py-2 flex space-x-2 items-center bg-emerald-50 text-slate-800', '1': 'px-4 py-2 flex space-x-2 items-center bg-slate-800 text-emerald-50 hover:bg-slate-700', '2': 'px-4 py-2 flex space-x-2 items-center bg-slate-800 text-emerald-50 hover:bg-slate-700', '3': 'px-4 py-2 flex space-x-2 items-center bg-slate-800 text-emerald-50 hover:bg-slate-700', '4': 'px-4 py-2 flex space-x-2 items-center bg-slate-800 text-emerald-50 hover:bg-slate-700', '5': 'px-4 py-2 flex space-x-2 items-center bg-slate-800 text-emerald-50 hover:bg-slate-700', '6': 'px-4 py-2 flex space-x-2 items-center bg-slate-800 text-emerald-50 hover:bg-slate-700'}\n",
      "------------------------\n",
      "\n"
     ]
    }
   ],
   "source": [
    "print(\"Load Page\")\n",
    "print(f\"starting pathname: {pathname}\")\n",
    "print(f\"starting input_icon_src: {input_icon_src}\")\n",
    "print(f\"starting input_link_class: {input_link_class}\")\n",
    "print(\"On Load, Callback Fires\")\n",
    "output = update_sidebar_style(pathname, input_icon_src, input_link_class)\n",
    "print(f\"output_icon_src: {output['output_icon_src']}\")\n",
    "print(f\"output_link_class: {output['output_link_class']}\")\n",
    "print(\"------------------------\")\n",
    "for _ in range(5):\n",
    "    print(\"Click On New Page\")\n",
    "    pathname, available_paths = click_new_page(pathname, available_paths)\n",
    "    print(f\"pathname: {pathname}\")\n",
    "    print(\"Callback Fires\")\n",
    "    output = update_sidebar_style(\n",
    "        pathname, output[\"output_icon_src\"], output[\"output_link_class\"]\n",
    "    )\n",
    "    print(f\"output_icon_src: {output['output_icon_src']}\")\n",
    "    print(f\"output_link_class: {output['output_link_class']}\")\n",
    "    print(\"------------------------\")\n",
    "print(\"\")"
   ]
  },
  {
   "cell_type": "markdown",
   "id": "afd26591-c33e-48c8-a9cd-71c6f8f085c1",
   "metadata": {},
   "source": [
    "### Reconfigure Sidebar Layout With Language Sections"
   ]
  },
  {
   "cell_type": "code",
   "execution_count": 4,
   "id": "6486c0b7-bc98-4e1d-8195-3721fb627771",
   "metadata": {
    "tags": []
   },
   "outputs": [],
   "source": [
    "# Stand in page_registry variable\n",
    "page_registry: dict[str, dict[str, Any]] = {\n",
    "    \"pages.home\": {\n",
    "        \"path\": \"/\",\n",
    "        \"name\": \"Home\",\n",
    "        \"sidebar\": True,\n",
    "        \"language\": \"about\",\n",
    "        \"id_link\": \"home_link\",\n",
    "        \"relative_path\": \"/\",\n",
    "    },\n",
    "    \"pages.background\": {\n",
    "        \"path\": \"/background\",\n",
    "        \"name\": \"Handbell Music Validation\",\n",
    "        \"sidebar\": True,\n",
    "        \"language\": \"javascript\",\n",
    "        \"id_link\": \"background_link\",\n",
    "        \"relative_path\": \"/background\",\n",
    "    },\n",
    "    \"pages.dashboard\": {\n",
    "        \"path\": \"/dashboard\",\n",
    "        \"name\": \"Dashboard\",\n",
    "        \"sidebar\": True,\n",
    "        \"language\": \"python\",\n",
    "        \"id_link\": \"dashboard_link\",\n",
    "        \"relative_path\": \"/dashboard\",\n",
    "    },\n",
    "    \"pages.mlb_the_show\": {\n",
    "        \"path\": \"/mlb_the_show\",\n",
    "        \"name\": \"MLB The Show\",\n",
    "        \"sidebar\": True,\n",
    "        \"language\": \"python\",\n",
    "        \"id_link\": \"dashboard_link\",\n",
    "        \"relative_path\": \"/mlb_the_show\",\n",
    "    },\n",
    "    \"pages.another\": {\n",
    "        \"path\": \"/another\",\n",
    "        \"name\": \"Another\",\n",
    "        \"sidebar\": True,\n",
    "        \"language\": \"sql\",\n",
    "        \"id_link\": \"another_link\",\n",
    "        \"relative_path\": \"/another\",\n",
    "    },\n",
    "    \"pages.not_found_404\": {\n",
    "        \"path\": \"/not_found_404\",\n",
    "        \"name\": \"Not Found 404\",\n",
    "        # \"sidebar\": True,\n",
    "        \"language\": \"not_found_404\",\n",
    "        \"id_link\": \"not_found_404_link\",\n",
    "        \"relative_path\": \"/not-found-404\",\n",
    "    },\n",
    "}"
   ]
  },
  {
   "cell_type": "code",
   "execution_count": 13,
   "id": "26833625-24f0-4b81-bf4f-c8f9e77ae270",
   "metadata": {
    "tags": []
   },
   "outputs": [
    {
     "name": "stdout",
     "output_type": "stream",
     "text": [
      "language_sections\n"
     ]
    },
    {
     "data": {
      "text/html": [
       "<pre style=\"white-space:pre;overflow-x:auto;line-height:normal;font-family:Menlo,'DejaVu Sans Mono',consolas,'Courier New',monospace\"><span style=\"font-weight: bold\">{</span>\n",
       "    <span style=\"color: #008000; text-decoration-color: #008000\">'about'</span>: <span style=\"font-weight: bold\">{</span>\n",
       "        <span style=\"color: #008000; text-decoration-color: #008000\">'heading'</span>: <span style=\"color: #800080; text-decoration-color: #800080; font-weight: bold\">Div</span><span style=\"font-weight: bold\">(</span><span style=\"color: #808000; text-decoration-color: #808000\">children</span>=<span style=\"color: #008000; text-decoration-color: #008000\">'About'</span>, <span style=\"color: #808000; text-decoration-color: #808000\">className</span>=<span style=\"color: #008000; text-decoration-color: #008000\">'px-1 py-2 text-slate-600 text-sm font-semibold'</span><span style=\"font-weight: bold\">)</span>,\n",
       "        <span style=\"color: #008000; text-decoration-color: #008000\">'links'</span>: <span style=\"font-weight: bold\">[</span>\n",
       "            <span style=\"color: #800080; text-decoration-color: #800080; font-weight: bold\">Link</span><span style=\"font-weight: bold\">(</span><span style=\"color: #808000; text-decoration-color: #808000\">children</span>=<span style=\"color: #008000; text-decoration-color: #008000\">'Home'</span>, <span style=\"color: #808000; text-decoration-color: #808000\">href</span>=<span style=\"color: #008000; text-decoration-color: #008000\">'/'</span>, <span style=\"color: #808000; text-decoration-color: #808000\">className</span>=<span style=\"color: #008000; text-decoration-color: #008000\">'px-2 py-2 text-center font-semibold text-xs text-emerald-50 hover:bg-slate-700 hover:pl-2.5 hover:pr-1.5 transition-all'</span>, <span style=\"color: #808000; text-decoration-color: #808000\">id</span>=<span style=\"color: #008000; text-decoration-color: #008000\">'home_link'</span><span style=\"font-weight: bold\">)</span>\n",
       "        <span style=\"font-weight: bold\">]</span>\n",
       "    <span style=\"font-weight: bold\">}</span>,\n",
       "    <span style=\"color: #008000; text-decoration-color: #008000\">'javascript'</span>: <span style=\"font-weight: bold\">{</span>\n",
       "        <span style=\"color: #008000; text-decoration-color: #008000\">'heading'</span>: <span style=\"color: #800080; text-decoration-color: #800080; font-weight: bold\">Div</span><span style=\"font-weight: bold\">(</span><span style=\"color: #808000; text-decoration-color: #808000\">children</span>=<span style=\"color: #008000; text-decoration-color: #008000\">'Javascript'</span>, <span style=\"color: #808000; text-decoration-color: #808000\">className</span>=<span style=\"color: #008000; text-decoration-color: #008000\">'px-1 py-2 text-slate-600 text-sm font-semibold'</span><span style=\"font-weight: bold\">)</span>,\n",
       "        <span style=\"color: #008000; text-decoration-color: #008000\">'links'</span>: <span style=\"font-weight: bold\">[</span>\n",
       "            <span style=\"color: #800080; text-decoration-color: #800080; font-weight: bold\">Link</span><span style=\"font-weight: bold\">(</span><span style=\"color: #808000; text-decoration-color: #808000\">children</span>=<span style=\"color: #008000; text-decoration-color: #008000\">'Handbell Music Validation'</span>, <span style=\"color: #808000; text-decoration-color: #808000\">href</span>=<span style=\"color: #008000; text-decoration-color: #008000\">'/background'</span>, <span style=\"color: #808000; text-decoration-color: #808000\">className</span>=<span style=\"color: #008000; text-decoration-color: #008000\">'px-2 py-2 text-center font-semibold text-xs text-emerald-50 hover:bg-slate-700 hover:pl-2.5 hover:pr-1.5 transition-all'</span>, <span style=\"color: #808000; text-decoration-color: #808000\">id</span>=<span style=\"color: #008000; text-decoration-color: #008000\">'background_link'</span><span style=\"font-weight: bold\">)</span>\n",
       "        <span style=\"font-weight: bold\">]</span>\n",
       "    <span style=\"font-weight: bold\">}</span>,\n",
       "    <span style=\"color: #008000; text-decoration-color: #008000\">'python'</span>: <span style=\"font-weight: bold\">{</span>\n",
       "        <span style=\"color: #008000; text-decoration-color: #008000\">'heading'</span>: <span style=\"color: #800080; text-decoration-color: #800080; font-weight: bold\">Div</span><span style=\"font-weight: bold\">(</span><span style=\"color: #808000; text-decoration-color: #808000\">children</span>=<span style=\"color: #008000; text-decoration-color: #008000\">'Python'</span>, <span style=\"color: #808000; text-decoration-color: #808000\">className</span>=<span style=\"color: #008000; text-decoration-color: #008000\">'px-1 py-2 text-slate-600 text-sm font-semibold'</span><span style=\"font-weight: bold\">)</span>,\n",
       "        <span style=\"color: #008000; text-decoration-color: #008000\">'links'</span>: <span style=\"font-weight: bold\">[</span>\n",
       "            <span style=\"color: #800080; text-decoration-color: #800080; font-weight: bold\">Link</span><span style=\"font-weight: bold\">(</span><span style=\"color: #808000; text-decoration-color: #808000\">children</span>=<span style=\"color: #008000; text-decoration-color: #008000\">'Dashboard'</span>, <span style=\"color: #808000; text-decoration-color: #808000\">href</span>=<span style=\"color: #008000; text-decoration-color: #008000\">'/dashboard'</span>, <span style=\"color: #808000; text-decoration-color: #808000\">className</span>=<span style=\"color: #008000; text-decoration-color: #008000\">'px-2 py-2 text-center font-semibold text-xs text-emerald-50 hover:bg-slate-700 hover:pl-2.5 hover:pr-1.5 transition-all'</span>, <span style=\"color: #808000; text-decoration-color: #808000\">id</span>=<span style=\"color: #008000; text-decoration-color: #008000\">'dashboard_link'</span><span style=\"font-weight: bold\">)</span>,\n",
       "            <span style=\"color: #800080; text-decoration-color: #800080; font-weight: bold\">Link</span><span style=\"font-weight: bold\">(</span><span style=\"color: #808000; text-decoration-color: #808000\">children</span>=<span style=\"color: #008000; text-decoration-color: #008000\">'MLB The Show'</span>, <span style=\"color: #808000; text-decoration-color: #808000\">href</span>=<span style=\"color: #008000; text-decoration-color: #008000\">'/mlb_the_show'</span>, <span style=\"color: #808000; text-decoration-color: #808000\">className</span>=<span style=\"color: #008000; text-decoration-color: #008000\">'px-2 py-2 text-center font-semibold text-xs text-emerald-50 hover:bg-slate-700 hover:pl-2.5 hover:pr-1.5 transition-all'</span>, <span style=\"color: #808000; text-decoration-color: #808000\">id</span>=<span style=\"color: #008000; text-decoration-color: #008000\">'dashboard_link'</span><span style=\"font-weight: bold\">)</span>\n",
       "        <span style=\"font-weight: bold\">]</span>\n",
       "    <span style=\"font-weight: bold\">}</span>,\n",
       "    <span style=\"color: #008000; text-decoration-color: #008000\">'sql'</span>: <span style=\"font-weight: bold\">{</span>\n",
       "        <span style=\"color: #008000; text-decoration-color: #008000\">'heading'</span>: <span style=\"color: #800080; text-decoration-color: #800080; font-weight: bold\">Div</span><span style=\"font-weight: bold\">(</span><span style=\"color: #808000; text-decoration-color: #808000\">children</span>=<span style=\"color: #008000; text-decoration-color: #008000\">'SQL'</span>, <span style=\"color: #808000; text-decoration-color: #808000\">className</span>=<span style=\"color: #008000; text-decoration-color: #008000\">'px-1 py-2 text-slate-600 text-sm font-semibold'</span><span style=\"font-weight: bold\">)</span>,\n",
       "        <span style=\"color: #008000; text-decoration-color: #008000\">'links'</span>: <span style=\"font-weight: bold\">[</span>\n",
       "            <span style=\"color: #800080; text-decoration-color: #800080; font-weight: bold\">Link</span><span style=\"font-weight: bold\">(</span><span style=\"color: #808000; text-decoration-color: #808000\">children</span>=<span style=\"color: #008000; text-decoration-color: #008000\">'Another'</span>, <span style=\"color: #808000; text-decoration-color: #808000\">href</span>=<span style=\"color: #008000; text-decoration-color: #008000\">'/another'</span>, <span style=\"color: #808000; text-decoration-color: #808000\">className</span>=<span style=\"color: #008000; text-decoration-color: #008000\">'px-2 py-2 text-center font-semibold text-xs text-emerald-50 hover:bg-slate-700 hover:pl-2.5 hover:pr-1.5 transition-all'</span>, <span style=\"color: #808000; text-decoration-color: #808000\">id</span>=<span style=\"color: #008000; text-decoration-color: #008000\">'another_link'</span><span style=\"font-weight: bold\">)</span>\n",
       "        <span style=\"font-weight: bold\">]</span>\n",
       "    <span style=\"font-weight: bold\">}</span>\n",
       "<span style=\"font-weight: bold\">}</span>\n",
       "</pre>\n"
      ],
      "text/plain": [
       "\u001b[1m{\u001b[0m\n",
       "    \u001b[32m'about'\u001b[0m: \u001b[1m{\u001b[0m\n",
       "        \u001b[32m'heading'\u001b[0m: \u001b[1;35mDiv\u001b[0m\u001b[1m(\u001b[0m\u001b[33mchildren\u001b[0m=\u001b[32m'About'\u001b[0m, \u001b[33mclassName\u001b[0m=\u001b[32m'px-1 py-2 text-slate-600 text-sm font-semibold'\u001b[0m\u001b[1m)\u001b[0m,\n",
       "        \u001b[32m'links'\u001b[0m: \u001b[1m[\u001b[0m\n",
       "            \u001b[1;35mLink\u001b[0m\u001b[1m(\u001b[0m\u001b[33mchildren\u001b[0m=\u001b[32m'Home'\u001b[0m, \u001b[33mhref\u001b[0m=\u001b[32m'/'\u001b[0m, \u001b[33mclassName\u001b[0m=\u001b[32m'px-2 py-2 text-center font-semibold text-xs text-emerald-50 hover:bg-slate-700 hover:pl-2.5 hover:pr-1.5 transition-all'\u001b[0m, \u001b[33mid\u001b[0m=\u001b[32m'home_link'\u001b[0m\u001b[1m)\u001b[0m\n",
       "        \u001b[1m]\u001b[0m\n",
       "    \u001b[1m}\u001b[0m,\n",
       "    \u001b[32m'javascript'\u001b[0m: \u001b[1m{\u001b[0m\n",
       "        \u001b[32m'heading'\u001b[0m: \u001b[1;35mDiv\u001b[0m\u001b[1m(\u001b[0m\u001b[33mchildren\u001b[0m=\u001b[32m'Javascript'\u001b[0m, \u001b[33mclassName\u001b[0m=\u001b[32m'px-1 py-2 text-slate-600 text-sm font-semibold'\u001b[0m\u001b[1m)\u001b[0m,\n",
       "        \u001b[32m'links'\u001b[0m: \u001b[1m[\u001b[0m\n",
       "            \u001b[1;35mLink\u001b[0m\u001b[1m(\u001b[0m\u001b[33mchildren\u001b[0m=\u001b[32m'Handbell Music Validation'\u001b[0m, \u001b[33mhref\u001b[0m=\u001b[32m'/background'\u001b[0m, \u001b[33mclassName\u001b[0m=\u001b[32m'px-2 py-2 text-center font-semibold text-xs text-emerald-50 hover:bg-slate-700 hover:pl-2.5 hover:pr-1.5 transition-all'\u001b[0m, \u001b[33mid\u001b[0m=\u001b[32m'background_link'\u001b[0m\u001b[1m)\u001b[0m\n",
       "        \u001b[1m]\u001b[0m\n",
       "    \u001b[1m}\u001b[0m,\n",
       "    \u001b[32m'python'\u001b[0m: \u001b[1m{\u001b[0m\n",
       "        \u001b[32m'heading'\u001b[0m: \u001b[1;35mDiv\u001b[0m\u001b[1m(\u001b[0m\u001b[33mchildren\u001b[0m=\u001b[32m'Python'\u001b[0m, \u001b[33mclassName\u001b[0m=\u001b[32m'px-1 py-2 text-slate-600 text-sm font-semibold'\u001b[0m\u001b[1m)\u001b[0m,\n",
       "        \u001b[32m'links'\u001b[0m: \u001b[1m[\u001b[0m\n",
       "            \u001b[1;35mLink\u001b[0m\u001b[1m(\u001b[0m\u001b[33mchildren\u001b[0m=\u001b[32m'Dashboard'\u001b[0m, \u001b[33mhref\u001b[0m=\u001b[32m'/dashboard'\u001b[0m, \u001b[33mclassName\u001b[0m=\u001b[32m'px-2 py-2 text-center font-semibold text-xs text-emerald-50 hover:bg-slate-700 hover:pl-2.5 hover:pr-1.5 transition-all'\u001b[0m, \u001b[33mid\u001b[0m=\u001b[32m'dashboard_link'\u001b[0m\u001b[1m)\u001b[0m,\n",
       "            \u001b[1;35mLink\u001b[0m\u001b[1m(\u001b[0m\u001b[33mchildren\u001b[0m=\u001b[32m'MLB The Show'\u001b[0m, \u001b[33mhref\u001b[0m=\u001b[32m'/mlb_the_show'\u001b[0m, \u001b[33mclassName\u001b[0m=\u001b[32m'px-2 py-2 text-center font-semibold text-xs text-emerald-50 hover:bg-slate-700 hover:pl-2.5 hover:pr-1.5 transition-all'\u001b[0m, \u001b[33mid\u001b[0m=\u001b[32m'dashboard_link'\u001b[0m\u001b[1m)\u001b[0m\n",
       "        \u001b[1m]\u001b[0m\n",
       "    \u001b[1m}\u001b[0m,\n",
       "    \u001b[32m'sql'\u001b[0m: \u001b[1m{\u001b[0m\n",
       "        \u001b[32m'heading'\u001b[0m: \u001b[1;35mDiv\u001b[0m\u001b[1m(\u001b[0m\u001b[33mchildren\u001b[0m=\u001b[32m'SQL'\u001b[0m, \u001b[33mclassName\u001b[0m=\u001b[32m'px-1 py-2 text-slate-600 text-sm font-semibold'\u001b[0m\u001b[1m)\u001b[0m,\n",
       "        \u001b[32m'links'\u001b[0m: \u001b[1m[\u001b[0m\n",
       "            \u001b[1;35mLink\u001b[0m\u001b[1m(\u001b[0m\u001b[33mchildren\u001b[0m=\u001b[32m'Another'\u001b[0m, \u001b[33mhref\u001b[0m=\u001b[32m'/another'\u001b[0m, \u001b[33mclassName\u001b[0m=\u001b[32m'px-2 py-2 text-center font-semibold text-xs text-emerald-50 hover:bg-slate-700 hover:pl-2.5 hover:pr-1.5 transition-all'\u001b[0m, \u001b[33mid\u001b[0m=\u001b[32m'another_link'\u001b[0m\u001b[1m)\u001b[0m\n",
       "        \u001b[1m]\u001b[0m\n",
       "    \u001b[1m}\u001b[0m\n",
       "\u001b[1m}\u001b[0m\n"
      ]
     },
     "metadata": {},
     "output_type": "display_data"
    },
    {
     "name": "stdout",
     "output_type": "stream",
     "text": [
      "pages\n"
     ]
    },
    {
     "data": {
      "text/html": [
       "<pre style=\"white-space:pre;overflow-x:auto;line-height:normal;font-family:Menlo,'DejaVu Sans Mono',consolas,'Courier New',monospace\"><span style=\"font-weight: bold\">[</span>\n",
       "    <span style=\"color: #800080; text-decoration-color: #800080; font-weight: bold\">Div</span><span style=\"font-weight: bold\">(</span><span style=\"color: #808000; text-decoration-color: #808000\">children</span>=<span style=\"font-weight: bold\">[</span><span style=\"color: #800080; text-decoration-color: #800080; font-weight: bold\">Div</span><span style=\"font-weight: bold\">(</span><span style=\"color: #808000; text-decoration-color: #808000\">children</span>=<span style=\"color: #008000; text-decoration-color: #008000\">'About'</span>, <span style=\"color: #808000; text-decoration-color: #808000\">className</span>=<span style=\"color: #008000; text-decoration-color: #008000\">'px-1 py-2 text-slate-600 text-sm font-semibold'</span><span style=\"font-weight: bold\">)</span>, <span style=\"color: #800080; text-decoration-color: #800080; font-weight: bold\">Div</span><span style=\"font-weight: bold\">(</span><span style=\"color: #808000; text-decoration-color: #808000\">children</span>=<span style=\"font-weight: bold\">[</span><span style=\"color: #800080; text-decoration-color: #800080; font-weight: bold\">Link</span><span style=\"font-weight: bold\">(</span><span style=\"color: #808000; text-decoration-color: #808000\">children</span>=<span style=\"color: #008000; text-decoration-color: #008000\">'Home'</span>, <span style=\"color: #808000; text-decoration-color: #808000\">href</span>=<span style=\"color: #008000; text-decoration-color: #008000\">'/'</span>, <span style=\"color: #808000; text-decoration-color: #808000\">className</span>=<span style=\"color: #008000; text-decoration-color: #008000\">'px-2 py-2 text-center font-semibold text-xs text-emerald-50 hover:bg-slate-700 hover:pl-2.5 hover:pr-1.5 transition-all'</span>, <span style=\"color: #808000; text-decoration-color: #808000\">id</span>=<span style=\"color: #008000; text-decoration-color: #008000\">'home_link'</span><span style=\"font-weight: bold\">)]</span>, <span style=\"color: #808000; text-decoration-color: #808000\">className</span>=<span style=\"color: #008000; text-decoration-color: #008000\">'LINK DIV'</span><span style=\"font-weight: bold\">)]</span>, <span style=\"color: #808000; text-decoration-color: #808000\">className</span>=<span style=\"color: #008000; text-decoration-color: #008000\">'SECTION DIV'</span><span style=\"font-weight: bold\">)</span>,\n",
       "    <span style=\"color: #800080; text-decoration-color: #800080; font-weight: bold\">Div</span><span style=\"font-weight: bold\">(</span><span style=\"color: #808000; text-decoration-color: #808000\">children</span>=<span style=\"font-weight: bold\">[</span><span style=\"color: #800080; text-decoration-color: #800080; font-weight: bold\">Div</span><span style=\"font-weight: bold\">(</span><span style=\"color: #808000; text-decoration-color: #808000\">children</span>=<span style=\"color: #008000; text-decoration-color: #008000\">'Javascript'</span>, <span style=\"color: #808000; text-decoration-color: #808000\">className</span>=<span style=\"color: #008000; text-decoration-color: #008000\">'px-1 py-2 text-slate-600 text-sm font-semibold'</span><span style=\"font-weight: bold\">)</span>, <span style=\"color: #800080; text-decoration-color: #800080; font-weight: bold\">Div</span><span style=\"font-weight: bold\">(</span><span style=\"color: #808000; text-decoration-color: #808000\">children</span>=<span style=\"font-weight: bold\">[</span><span style=\"color: #800080; text-decoration-color: #800080; font-weight: bold\">Link</span><span style=\"font-weight: bold\">(</span><span style=\"color: #808000; text-decoration-color: #808000\">children</span>=<span style=\"color: #008000; text-decoration-color: #008000\">'Handbell Music Validation'</span>, <span style=\"color: #808000; text-decoration-color: #808000\">href</span>=<span style=\"color: #008000; text-decoration-color: #008000\">'/background'</span>, <span style=\"color: #808000; text-decoration-color: #808000\">className</span>=<span style=\"color: #008000; text-decoration-color: #008000\">'px-2 py-2 text-center font-semibold text-xs text-emerald-50 hover:bg-slate-700 hover:pl-2.5 hover:pr-1.5 transition-all'</span>, <span style=\"color: #808000; text-decoration-color: #808000\">id</span>=<span style=\"color: #008000; text-decoration-color: #008000\">'background_link'</span><span style=\"font-weight: bold\">)]</span>, <span style=\"color: #808000; text-decoration-color: #808000\">className</span>=<span style=\"color: #008000; text-decoration-color: #008000\">'LINK DIV'</span><span style=\"font-weight: bold\">)]</span>, <span style=\"color: #808000; text-decoration-color: #808000\">className</span>=<span style=\"color: #008000; text-decoration-color: #008000\">'SECTION DIV'</span><span style=\"font-weight: bold\">)</span>,\n",
       "    <span style=\"color: #800080; text-decoration-color: #800080; font-weight: bold\">Div</span><span style=\"font-weight: bold\">(</span><span style=\"color: #808000; text-decoration-color: #808000\">children</span>=<span style=\"font-weight: bold\">[</span><span style=\"color: #800080; text-decoration-color: #800080; font-weight: bold\">Div</span><span style=\"font-weight: bold\">(</span><span style=\"color: #808000; text-decoration-color: #808000\">children</span>=<span style=\"color: #008000; text-decoration-color: #008000\">'Python'</span>, <span style=\"color: #808000; text-decoration-color: #808000\">className</span>=<span style=\"color: #008000; text-decoration-color: #008000\">'px-1 py-2 text-slate-600 text-sm font-semibold'</span><span style=\"font-weight: bold\">)</span>, <span style=\"color: #800080; text-decoration-color: #800080; font-weight: bold\">Div</span><span style=\"font-weight: bold\">(</span><span style=\"color: #808000; text-decoration-color: #808000\">children</span>=<span style=\"font-weight: bold\">[</span><span style=\"color: #800080; text-decoration-color: #800080; font-weight: bold\">Link</span><span style=\"font-weight: bold\">(</span><span style=\"color: #808000; text-decoration-color: #808000\">children</span>=<span style=\"color: #008000; text-decoration-color: #008000\">'Dashboard'</span>, <span style=\"color: #808000; text-decoration-color: #808000\">href</span>=<span style=\"color: #008000; text-decoration-color: #008000\">'/dashboard'</span>, <span style=\"color: #808000; text-decoration-color: #808000\">className</span>=<span style=\"color: #008000; text-decoration-color: #008000\">'px-2 py-2 text-center font-semibold text-xs text-emerald-50 hover:bg-slate-700 hover:pl-2.5 hover:pr-1.5 transition-all'</span>, <span style=\"color: #808000; text-decoration-color: #808000\">id</span>=<span style=\"color: #008000; text-decoration-color: #008000\">'dashboard_link'</span><span style=\"font-weight: bold\">)</span>, <span style=\"color: #800080; text-decoration-color: #800080; font-weight: bold\">Link</span><span style=\"font-weight: bold\">(</span><span style=\"color: #808000; text-decoration-color: #808000\">children</span>=<span style=\"color: #008000; text-decoration-color: #008000\">'MLB The Show'</span>, <span style=\"color: #808000; text-decoration-color: #808000\">href</span>=<span style=\"color: #008000; text-decoration-color: #008000\">'/mlb_the_show'</span>, <span style=\"color: #808000; text-decoration-color: #808000\">className</span>=<span style=\"color: #008000; text-decoration-color: #008000\">'px-2 py-2 text-center font-semibold text-xs text-emerald-50 hover:bg-slate-700 hover:pl-2.5 hover:pr-1.5 transition-all'</span>, <span style=\"color: #808000; text-decoration-color: #808000\">id</span>=<span style=\"color: #008000; text-decoration-color: #008000\">'dashboard_link'</span><span style=\"font-weight: bold\">)]</span>, <span style=\"color: #808000; text-decoration-color: #808000\">className</span>=<span style=\"color: #008000; text-decoration-color: #008000\">'LINK DIV'</span><span style=\"font-weight: bold\">)]</span>, <span style=\"color: #808000; text-decoration-color: #808000\">className</span>=<span style=\"color: #008000; text-decoration-color: #008000\">'SECTION DIV'</span><span style=\"font-weight: bold\">)</span>,\n",
       "    <span style=\"color: #800080; text-decoration-color: #800080; font-weight: bold\">Div</span><span style=\"font-weight: bold\">(</span><span style=\"color: #808000; text-decoration-color: #808000\">children</span>=<span style=\"font-weight: bold\">[</span><span style=\"color: #800080; text-decoration-color: #800080; font-weight: bold\">Div</span><span style=\"font-weight: bold\">(</span><span style=\"color: #808000; text-decoration-color: #808000\">children</span>=<span style=\"color: #008000; text-decoration-color: #008000\">'SQL'</span>, <span style=\"color: #808000; text-decoration-color: #808000\">className</span>=<span style=\"color: #008000; text-decoration-color: #008000\">'px-1 py-2 text-slate-600 text-sm font-semibold'</span><span style=\"font-weight: bold\">)</span>, <span style=\"color: #800080; text-decoration-color: #800080; font-weight: bold\">Div</span><span style=\"font-weight: bold\">(</span><span style=\"color: #808000; text-decoration-color: #808000\">children</span>=<span style=\"font-weight: bold\">[</span><span style=\"color: #800080; text-decoration-color: #800080; font-weight: bold\">Link</span><span style=\"font-weight: bold\">(</span><span style=\"color: #808000; text-decoration-color: #808000\">children</span>=<span style=\"color: #008000; text-decoration-color: #008000\">'Another'</span>, <span style=\"color: #808000; text-decoration-color: #808000\">href</span>=<span style=\"color: #008000; text-decoration-color: #008000\">'/another'</span>, <span style=\"color: #808000; text-decoration-color: #808000\">className</span>=<span style=\"color: #008000; text-decoration-color: #008000\">'px-2 py-2 text-center font-semibold text-xs text-emerald-50 hover:bg-slate-700 hover:pl-2.5 hover:pr-1.5 transition-all'</span>, <span style=\"color: #808000; text-decoration-color: #808000\">id</span>=<span style=\"color: #008000; text-decoration-color: #008000\">'another_link'</span><span style=\"font-weight: bold\">)]</span>, <span style=\"color: #808000; text-decoration-color: #808000\">className</span>=<span style=\"color: #008000; text-decoration-color: #008000\">'LINK DIV'</span><span style=\"font-weight: bold\">)]</span>, <span style=\"color: #808000; text-decoration-color: #808000\">className</span>=<span style=\"color: #008000; text-decoration-color: #008000\">'SECTION DIV'</span><span style=\"font-weight: bold\">)</span>\n",
       "<span style=\"font-weight: bold\">]</span>\n",
       "</pre>\n"
      ],
      "text/plain": [
       "\u001b[1m[\u001b[0m\n",
       "    \u001b[1;35mDiv\u001b[0m\u001b[1m(\u001b[0m\u001b[33mchildren\u001b[0m=\u001b[1m[\u001b[0m\u001b[1;35mDiv\u001b[0m\u001b[1m(\u001b[0m\u001b[33mchildren\u001b[0m=\u001b[32m'About'\u001b[0m, \u001b[33mclassName\u001b[0m=\u001b[32m'px-1 py-2 text-slate-600 text-sm font-semibold'\u001b[0m\u001b[1m)\u001b[0m, \u001b[1;35mDiv\u001b[0m\u001b[1m(\u001b[0m\u001b[33mchildren\u001b[0m=\u001b[1m[\u001b[0m\u001b[1;35mLink\u001b[0m\u001b[1m(\u001b[0m\u001b[33mchildren\u001b[0m=\u001b[32m'Home'\u001b[0m, \u001b[33mhref\u001b[0m=\u001b[32m'/'\u001b[0m, \u001b[33mclassName\u001b[0m=\u001b[32m'px-2 py-2 text-center font-semibold text-xs text-emerald-50 hover:bg-slate-700 hover:pl-2.5 hover:pr-1.5 transition-all'\u001b[0m, \u001b[33mid\u001b[0m=\u001b[32m'home_link'\u001b[0m\u001b[1m)\u001b[0m\u001b[1m]\u001b[0m, \u001b[33mclassName\u001b[0m=\u001b[32m'LINK DIV'\u001b[0m\u001b[1m)\u001b[0m\u001b[1m]\u001b[0m, \u001b[33mclassName\u001b[0m=\u001b[32m'SECTION DIV'\u001b[0m\u001b[1m)\u001b[0m,\n",
       "    \u001b[1;35mDiv\u001b[0m\u001b[1m(\u001b[0m\u001b[33mchildren\u001b[0m=\u001b[1m[\u001b[0m\u001b[1;35mDiv\u001b[0m\u001b[1m(\u001b[0m\u001b[33mchildren\u001b[0m=\u001b[32m'Javascript'\u001b[0m, \u001b[33mclassName\u001b[0m=\u001b[32m'px-1 py-2 text-slate-600 text-sm font-semibold'\u001b[0m\u001b[1m)\u001b[0m, \u001b[1;35mDiv\u001b[0m\u001b[1m(\u001b[0m\u001b[33mchildren\u001b[0m=\u001b[1m[\u001b[0m\u001b[1;35mLink\u001b[0m\u001b[1m(\u001b[0m\u001b[33mchildren\u001b[0m=\u001b[32m'Handbell Music Validation'\u001b[0m, \u001b[33mhref\u001b[0m=\u001b[32m'/background'\u001b[0m, \u001b[33mclassName\u001b[0m=\u001b[32m'px-2 py-2 text-center font-semibold text-xs text-emerald-50 hover:bg-slate-700 hover:pl-2.5 hover:pr-1.5 transition-all'\u001b[0m, \u001b[33mid\u001b[0m=\u001b[32m'background_link'\u001b[0m\u001b[1m)\u001b[0m\u001b[1m]\u001b[0m, \u001b[33mclassName\u001b[0m=\u001b[32m'LINK DIV'\u001b[0m\u001b[1m)\u001b[0m\u001b[1m]\u001b[0m, \u001b[33mclassName\u001b[0m=\u001b[32m'SECTION DIV'\u001b[0m\u001b[1m)\u001b[0m,\n",
       "    \u001b[1;35mDiv\u001b[0m\u001b[1m(\u001b[0m\u001b[33mchildren\u001b[0m=\u001b[1m[\u001b[0m\u001b[1;35mDiv\u001b[0m\u001b[1m(\u001b[0m\u001b[33mchildren\u001b[0m=\u001b[32m'Python'\u001b[0m, \u001b[33mclassName\u001b[0m=\u001b[32m'px-1 py-2 text-slate-600 text-sm font-semibold'\u001b[0m\u001b[1m)\u001b[0m, \u001b[1;35mDiv\u001b[0m\u001b[1m(\u001b[0m\u001b[33mchildren\u001b[0m=\u001b[1m[\u001b[0m\u001b[1;35mLink\u001b[0m\u001b[1m(\u001b[0m\u001b[33mchildren\u001b[0m=\u001b[32m'Dashboard'\u001b[0m, \u001b[33mhref\u001b[0m=\u001b[32m'/dashboard'\u001b[0m, \u001b[33mclassName\u001b[0m=\u001b[32m'px-2 py-2 text-center font-semibold text-xs text-emerald-50 hover:bg-slate-700 hover:pl-2.5 hover:pr-1.5 transition-all'\u001b[0m, \u001b[33mid\u001b[0m=\u001b[32m'dashboard_link'\u001b[0m\u001b[1m)\u001b[0m, \u001b[1;35mLink\u001b[0m\u001b[1m(\u001b[0m\u001b[33mchildren\u001b[0m=\u001b[32m'MLB The Show'\u001b[0m, \u001b[33mhref\u001b[0m=\u001b[32m'/mlb_the_show'\u001b[0m, \u001b[33mclassName\u001b[0m=\u001b[32m'px-2 py-2 text-center font-semibold text-xs text-emerald-50 hover:bg-slate-700 hover:pl-2.5 hover:pr-1.5 transition-all'\u001b[0m, \u001b[33mid\u001b[0m=\u001b[32m'dashboard_link'\u001b[0m\u001b[1m)\u001b[0m\u001b[1m]\u001b[0m, \u001b[33mclassName\u001b[0m=\u001b[32m'LINK DIV'\u001b[0m\u001b[1m)\u001b[0m\u001b[1m]\u001b[0m, \u001b[33mclassName\u001b[0m=\u001b[32m'SECTION DIV'\u001b[0m\u001b[1m)\u001b[0m,\n",
       "    \u001b[1;35mDiv\u001b[0m\u001b[1m(\u001b[0m\u001b[33mchildren\u001b[0m=\u001b[1m[\u001b[0m\u001b[1;35mDiv\u001b[0m\u001b[1m(\u001b[0m\u001b[33mchildren\u001b[0m=\u001b[32m'SQL'\u001b[0m, \u001b[33mclassName\u001b[0m=\u001b[32m'px-1 py-2 text-slate-600 text-sm font-semibold'\u001b[0m\u001b[1m)\u001b[0m, \u001b[1;35mDiv\u001b[0m\u001b[1m(\u001b[0m\u001b[33mchildren\u001b[0m=\u001b[1m[\u001b[0m\u001b[1;35mLink\u001b[0m\u001b[1m(\u001b[0m\u001b[33mchildren\u001b[0m=\u001b[32m'Another'\u001b[0m, \u001b[33mhref\u001b[0m=\u001b[32m'/another'\u001b[0m, \u001b[33mclassName\u001b[0m=\u001b[32m'px-2 py-2 text-center font-semibold text-xs text-emerald-50 hover:bg-slate-700 hover:pl-2.5 hover:pr-1.5 transition-all'\u001b[0m, \u001b[33mid\u001b[0m=\u001b[32m'another_link'\u001b[0m\u001b[1m)\u001b[0m\u001b[1m]\u001b[0m, \u001b[33mclassName\u001b[0m=\u001b[32m'LINK DIV'\u001b[0m\u001b[1m)\u001b[0m\u001b[1m]\u001b[0m, \u001b[33mclassName\u001b[0m=\u001b[32m'SECTION DIV'\u001b[0m\u001b[1m)\u001b[0m\n",
       "\u001b[1m]\u001b[0m\n"
      ]
     },
     "metadata": {},
     "output_type": "display_data"
    }
   ],
   "source": [
    "language_sections = {}\n",
    "for page in page_registry.values():\n",
    "    if page.get(\"sidebar\"):\n",
    "        language = page[\"language\"]\n",
    "        language_title = language.title() if language != \"sql\" else language.upper()\n",
    "        language_heading = html.Div(\n",
    "            language_title, className=\"px-1 py-2 text-slate-600 text-sm font-semibold\"\n",
    "        )\n",
    "\n",
    "        link = dcc.Link(\n",
    "            page[\"name\"],\n",
    "            id=page[\"id_link\"],\n",
    "            href=page[\"relative_path\"],\n",
    "            className=\"px-2 py-2 text-center font-semibold text-xs text-emerald-50 hover:bg-slate-700 hover:pl-2.5 hover:pr-1.5 transition-all\",\n",
    "        )\n",
    "\n",
    "        if language not in language_sections:\n",
    "            language_sections[language] = {\"heading\": language_heading, \"links\": []}\n",
    "        language_sections[language][\"links\"].append(link)\n",
    "\n",
    "pages = []\n",
    "for language, section_data in language_sections.items():\n",
    "    link_div = html.Div(section_data[\"links\"], className=\"LINK DIV\")\n",
    "    section_div = html.Div([section_data[\"heading\"], link_div], className=\"SECTION DIV\")\n",
    "    pages.append(section_div)\n",
    "\n",
    "print(\"language_sections\")\n",
    "pprint(language_sections, indent_guides=False, expand_all=True)\n",
    "print(\"pages\")\n",
    "pprint(pages, indent_guides=False, expand_all=True)"
   ]
  },
  {
   "cell_type": "code",
   "execution_count": 8,
   "id": "11ad354a-bffe-4610-9e1e-be37f2e727c2",
   "metadata": {},
   "outputs": [
    {
     "data": {
      "text/html": [
       "<pre style=\"white-space:pre;overflow-x:auto;line-height:normal;font-family:Menlo,'DejaVu Sans Mono',consolas,'Courier New',monospace\"></pre>\n"
      ],
      "text/plain": []
     },
     "metadata": {},
     "output_type": "display_data"
    },
    {
     "data": {
      "text/plain": [
       "\n",
       "\u001b[1m{\u001b[0m\n",
       "    \u001b[32m'header'\u001b[0m: \u001b[1m{\u001b[0m\n",
       "        \u001b[32m'home'\u001b[0m: \u001b[1m{\u001b[0m\n",
       "            \u001b[32m'link'\u001b[0m: \u001b[32m'header_home_link'\u001b[0m\n",
       "        \u001b[1m}\u001b[0m,\n",
       "        \u001b[32m'background'\u001b[0m: \u001b[1m{\u001b[0m\n",
       "            \u001b[32m'link'\u001b[0m: \u001b[32m'header_background_link'\u001b[0m\n",
       "        \u001b[1m}\u001b[0m,\n",
       "        \u001b[32m'handbell_music'\u001b[0m: \u001b[1m{\u001b[0m\n",
       "            \u001b[32m'link'\u001b[0m: \u001b[32m'header_handbell_music_link'\u001b[0m\n",
       "        \u001b[1m}\u001b[0m,\n",
       "        \u001b[32m'dashboard'\u001b[0m: \u001b[1m{\u001b[0m\n",
       "            \u001b[32m'link'\u001b[0m: \u001b[32m'header_dashboard_link'\u001b[0m\n",
       "        \u001b[1m}\u001b[0m,\n",
       "        \u001b[32m'another'\u001b[0m: \u001b[1m{\u001b[0m\n",
       "            \u001b[32m'link'\u001b[0m: \u001b[32m'header_another_link'\u001b[0m\n",
       "        \u001b[1m}\u001b[0m\n",
       "    \u001b[1m}\u001b[0m,\n",
       "    \u001b[32m'sidebar'\u001b[0m: \u001b[1m{\u001b[0m\n",
       "        \u001b[32m'home'\u001b[0m: \u001b[1m{\u001b[0m\n",
       "            \u001b[32m'link'\u001b[0m: \u001b[32m'sidebar_home_link'\u001b[0m\n",
       "        \u001b[1m}\u001b[0m,\n",
       "        \u001b[32m'background'\u001b[0m: \u001b[1m{\u001b[0m\n",
       "            \u001b[32m'link'\u001b[0m: \u001b[32m'sidebar_background_link'\u001b[0m\n",
       "        \u001b[1m}\u001b[0m,\n",
       "        \u001b[32m'handbell_music'\u001b[0m: \u001b[1m{\u001b[0m\n",
       "            \u001b[32m'link'\u001b[0m: \u001b[32m'sidebar_handbell_music_link'\u001b[0m\n",
       "        \u001b[1m}\u001b[0m,\n",
       "        \u001b[32m'dashboard'\u001b[0m: \u001b[1m{\u001b[0m\n",
       "            \u001b[32m'link'\u001b[0m: \u001b[32m'sidebar_dashboard_link'\u001b[0m\n",
       "        \u001b[1m}\u001b[0m,\n",
       "        \u001b[32m'another'\u001b[0m: \u001b[1m{\u001b[0m\n",
       "            \u001b[32m'link'\u001b[0m: \u001b[32m'sidebar_another_link'\u001b[0m\n",
       "        \u001b[1m}\u001b[0m\n",
       "    \u001b[1m}\u001b[0m\n",
       "\u001b[1m}\u001b[0m"
      ]
     },
     "execution_count": 8,
     "metadata": {},
     "output_type": "execute_result"
    }
   ],
   "source": [
    "PAGE_METADATA = (\"home\", \"background\", \"handbell_music\", \"dashboard\", \"another\")\n",
    "\n",
    "IDS = {\n",
    "    \"header\": {page: {\"link\": f\"header_{page}_link\"} for page in PAGE_METADATA},\n",
    "    \"sidebar\": {page: {\"link\": f\"sidebar_{page}_link\"} for page in PAGE_METADATA},\n",
    "}\n",
    "IDS"
   ]
  },
  {
   "cell_type": "code",
   "execution_count": null,
   "id": "f6a224ed-5a35-4a92-91b8-68fa74859254",
   "metadata": {},
   "outputs": [],
   "source": []
  }
 ],
 "metadata": {
  "kernelspec": {
   "display_name": "portfolio",
   "language": "python",
   "name": "portfolio"
  },
  "language_info": {
   "codemirror_mode": {
    "name": "ipython",
    "version": 3
   },
   "file_extension": ".py",
   "mimetype": "text/x-python",
   "name": "python",
   "nbconvert_exporter": "python",
   "pygments_lexer": "ipython3",
   "version": "3.10.12"
  }
 },
 "nbformat": 4,
 "nbformat_minor": 5
}
