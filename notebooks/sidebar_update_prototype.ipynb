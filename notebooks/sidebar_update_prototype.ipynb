{
 "cells": [
  {
   "cell_type": "code",
   "execution_count": 1,
   "id": "50f5d068-2cb8-4a24-8d52-9de395731ef4",
   "metadata": {
    "tags": []
   },
   "outputs": [],
   "source": [
    "import random\n",
    "import re\n",
    "\n",
    "import pandas as pd\n",
    "from rich import print"
   ]
  },
  {
   "cell_type": "code",
   "execution_count": 2,
   "id": "0589c3f3-2c50-445f-bd6f-5654f728bda4",
   "metadata": {
    "tags": []
   },
   "outputs": [
    {
     "data": {
      "text/html": [
       "<pre style=\"white-space:pre;overflow-x:auto;line-height:normal;font-family:Menlo,'DejaVu Sans Mono',consolas,'Courier New',monospace\">starting pathname: <span style=\"color: #800080; text-decoration-color: #800080\">/</span><span style=\"color: #ff00ff; text-decoration-color: #ff00ff\">3</span>\n",
       "</pre>\n"
      ],
      "text/plain": [
       "starting pathname: \u001b[35m/\u001b[0m\u001b[95m3\u001b[0m\n"
      ]
     },
     "metadata": {},
     "output_type": "display_data"
    },
    {
     "data": {
      "text/html": [
       "<pre style=\"white-space:pre;overflow-x:auto;line-height:normal;font-family:Menlo,'DejaVu Sans Mono',consolas,'Courier New',monospace\">starting input_icon_src: <span style=\"font-weight: bold\">{</span><span style=\"color: #008000; text-decoration-color: #008000\">'0'</span>: <span style=\"color: #008000; text-decoration-color: #008000\">'/assets/images/0_light.svg'</span>, <span style=\"color: #008000; text-decoration-color: #008000\">'1'</span>: <span style=\"color: #008000; text-decoration-color: #008000\">'/assets/images/1_light.svg'</span>, <span style=\"color: #008000; text-decoration-color: #008000\">'2'</span>: \n",
       "<span style=\"color: #008000; text-decoration-color: #008000\">'/assets/images/2_light.svg'</span>, <span style=\"color: #008000; text-decoration-color: #008000\">'3'</span>: <span style=\"color: #008000; text-decoration-color: #008000\">'/assets/images/3_light.svg'</span>, <span style=\"color: #008000; text-decoration-color: #008000\">'4'</span>: <span style=\"color: #008000; text-decoration-color: #008000\">'/assets/images/4_light.svg'</span>, <span style=\"color: #008000; text-decoration-color: #008000\">'5'</span>: \n",
       "<span style=\"color: #008000; text-decoration-color: #008000\">'/assets/images/5_light.svg'</span>, <span style=\"color: #008000; text-decoration-color: #008000\">'6'</span>: <span style=\"color: #008000; text-decoration-color: #008000\">'/assets/images/6_light.svg'</span><span style=\"font-weight: bold\">}</span>\n",
       "</pre>\n"
      ],
      "text/plain": [
       "starting input_icon_src: \u001b[1m{\u001b[0m\u001b[32m'0'\u001b[0m: \u001b[32m'/assets/images/0_light.svg'\u001b[0m, \u001b[32m'1'\u001b[0m: \u001b[32m'/assets/images/1_light.svg'\u001b[0m, \u001b[32m'2'\u001b[0m: \n",
       "\u001b[32m'/assets/images/2_light.svg'\u001b[0m, \u001b[32m'3'\u001b[0m: \u001b[32m'/assets/images/3_light.svg'\u001b[0m, \u001b[32m'4'\u001b[0m: \u001b[32m'/assets/images/4_light.svg'\u001b[0m, \u001b[32m'5'\u001b[0m: \n",
       "\u001b[32m'/assets/images/5_light.svg'\u001b[0m, \u001b[32m'6'\u001b[0m: \u001b[32m'/assets/images/6_light.svg'\u001b[0m\u001b[1m}\u001b[0m\n"
      ]
     },
     "metadata": {},
     "output_type": "display_data"
    },
    {
     "data": {
      "text/html": [
       "<pre style=\"white-space:pre;overflow-x:auto;line-height:normal;font-family:Menlo,'DejaVu Sans Mono',consolas,'Courier New',monospace\">starting input_link_class: <span style=\"font-weight: bold\">{</span><span style=\"color: #008000; text-decoration-color: #008000\">'0'</span>: <span style=\"color: #008000; text-decoration-color: #008000\">'px-4 py-2 flex space-x-2 items-center bg-slate-800 text-emerald-50 </span>\n",
       "<span style=\"color: #008000; text-decoration-color: #008000\">hover:bg-slate-700'</span>, <span style=\"color: #008000; text-decoration-color: #008000\">'1'</span>: <span style=\"color: #008000; text-decoration-color: #008000\">'px-4 py-2 flex space-x-2 items-center bg-slate-800 text-emerald-50 hover:bg-slate-700'</span>, \n",
       "<span style=\"color: #008000; text-decoration-color: #008000\">'2'</span>: <span style=\"color: #008000; text-decoration-color: #008000\">'px-4 py-2 flex space-x-2 items-center bg-slate-800 text-emerald-50 hover:bg-slate-700'</span>, <span style=\"color: #008000; text-decoration-color: #008000\">'3'</span>: <span style=\"color: #008000; text-decoration-color: #008000\">'px-4 py-2 flex </span>\n",
       "<span style=\"color: #008000; text-decoration-color: #008000\">space-x-2 items-center bg-slate-800 text-emerald-50 hover:bg-slate-700'</span>, <span style=\"color: #008000; text-decoration-color: #008000\">'4'</span>: <span style=\"color: #008000; text-decoration-color: #008000\">'px-4 py-2 flex space-x-2 </span>\n",
       "<span style=\"color: #008000; text-decoration-color: #008000\">items-center bg-slate-800 text-emerald-50 hover:bg-slate-700'</span>, <span style=\"color: #008000; text-decoration-color: #008000\">'5'</span>: <span style=\"color: #008000; text-decoration-color: #008000\">'px-4 py-2 flex space-x-2 items-center </span>\n",
       "<span style=\"color: #008000; text-decoration-color: #008000\">bg-slate-800 text-emerald-50 hover:bg-slate-700'</span>, <span style=\"color: #008000; text-decoration-color: #008000\">'6'</span>: <span style=\"color: #008000; text-decoration-color: #008000\">'px-4 py-2 flex space-x-2 items-center bg-slate-800 </span>\n",
       "<span style=\"color: #008000; text-decoration-color: #008000\">text-emerald-50 hover:bg-slate-700'</span><span style=\"font-weight: bold\">}</span>\n",
       "</pre>\n"
      ],
      "text/plain": [
       "starting input_link_class: \u001b[1m{\u001b[0m\u001b[32m'0'\u001b[0m: \u001b[32m'px-4 py-2 flex space-x-2 items-center bg-slate-800 text-emerald-50 \u001b[0m\n",
       "\u001b[32mhover:bg-slate-700'\u001b[0m, \u001b[32m'1'\u001b[0m: \u001b[32m'px-4 py-2 flex space-x-2 items-center bg-slate-800 text-emerald-50 hover:bg-slate-700'\u001b[0m, \n",
       "\u001b[32m'2'\u001b[0m: \u001b[32m'px-4 py-2 flex space-x-2 items-center bg-slate-800 text-emerald-50 hover:bg-slate-700'\u001b[0m, \u001b[32m'3'\u001b[0m: \u001b[32m'px-4 py-2 flex \u001b[0m\n",
       "\u001b[32mspace-x-2 items-center bg-slate-800 text-emerald-50 hover:bg-slate-700'\u001b[0m, \u001b[32m'4'\u001b[0m: \u001b[32m'px-4 py-2 flex space-x-2 \u001b[0m\n",
       "\u001b[32mitems-center bg-slate-800 text-emerald-50 hover:bg-slate-700'\u001b[0m, \u001b[32m'5'\u001b[0m: \u001b[32m'px-4 py-2 flex space-x-2 items-center \u001b[0m\n",
       "\u001b[32mbg-slate-800 text-emerald-50 hover:bg-slate-700'\u001b[0m, \u001b[32m'6'\u001b[0m: \u001b[32m'px-4 py-2 flex space-x-2 items-center bg-slate-800 \u001b[0m\n",
       "\u001b[32mtext-emerald-50 hover:bg-slate-700'\u001b[0m\u001b[1m}\u001b[0m\n"
      ]
     },
     "metadata": {},
     "output_type": "display_data"
    },
    {
     "data": {
      "text/html": [
       "<pre style=\"white-space:pre;overflow-x:auto;line-height:normal;font-family:Menlo,'DejaVu Sans Mono',consolas,'Courier New',monospace\">starting available_paths: <span style=\"font-weight: bold\">[</span><span style=\"color: #008000; text-decoration-color: #008000\">'/0'</span>, <span style=\"color: #008000; text-decoration-color: #008000\">'/1'</span>, <span style=\"color: #008000; text-decoration-color: #008000\">'/2'</span>, <span style=\"color: #008000; text-decoration-color: #008000\">'/4'</span>, <span style=\"color: #008000; text-decoration-color: #008000\">'/5'</span>, <span style=\"color: #008000; text-decoration-color: #008000\">'/6'</span><span style=\"font-weight: bold\">]</span>\n",
       "</pre>\n"
      ],
      "text/plain": [
       "starting available_paths: \u001b[1m[\u001b[0m\u001b[32m'/0'\u001b[0m, \u001b[32m'/1'\u001b[0m, \u001b[32m'/2'\u001b[0m, \u001b[32m'/4'\u001b[0m, \u001b[32m'/5'\u001b[0m, \u001b[32m'/6'\u001b[0m\u001b[1m]\u001b[0m\n"
      ]
     },
     "metadata": {},
     "output_type": "display_data"
    }
   ],
   "source": [
    "pages = 7\n",
    "\n",
    "paths = [f\"/{path}\" for path in range(pages)]\n",
    "input_icon_src = {\n",
    "    path.replace(\"/\", \"\"): f\"/assets/images{path}_light.svg\" for path in paths\n",
    "}\n",
    "input_link_class = {\n",
    "    path.replace(\n",
    "        \"/\", \"\"\n",
    "    ): \"px-4 py-2 flex space-x-2 items-center bg-slate-800 text-emerald-50 hover:bg-slate-700\"\n",
    "    for path in paths\n",
    "}\n",
    "pathname = random.choice(paths)\n",
    "\n",
    "available_paths = paths.copy()\n",
    "available_paths.remove(pathname)\n",
    "\n",
    "COLORS = {\n",
    "    \"bg_color_prefix\": \"bg\",\n",
    "    \"bg_color_dark\": \"bg-slate-800\",\n",
    "    \"bg_color_light\": \"bg-emerald-50\",\n",
    "    \"text_color_prefix\": \"text\",\n",
    "    \"text_color_dark\": \"text-slate-800\",\n",
    "    \"text_color_light\": \"text-emerald-50\",\n",
    "    \"hover_color_dark\": \"hover:bg-slate-700\",\n",
    "}\n",
    "\n",
    "print(f\"starting pathname: {pathname}\")\n",
    "print(f\"starting input_icon_src: {input_icon_src}\")\n",
    "print(f\"starting input_link_class: {input_link_class}\")\n",
    "print(f\"starting available_paths: {available_paths}\")"
   ]
  },
  {
   "cell_type": "code",
   "execution_count": 3,
   "id": "6775a403-874a-4e8b-94d2-03b01afe2611",
   "metadata": {
    "tags": []
   },
   "outputs": [],
   "source": [
    "def update_utility_classes(\n",
    "    current_classes: str,\n",
    "    remove_classes: list[str] | None = None,\n",
    "    add_classes: list[str] | None = None,\n",
    "    ignore_prefix_warning: bool = False,\n",
    ") -> str:\n",
    "    \"\"\"Update a utility class string by removing and/or adding classes.\n",
    "\n",
    "    Removes/adds utility classes from/to the `current_classes` string. At least one of\n",
    "    the arguments `remove_classes` or `add_classes` must be provided. These arguments\n",
    "    are given in the form of a list of strings representing the classes to be removed or\n",
    "    added.\n",
    "\n",
    "    If an incoming add class has a prefix that matches a class(es) in the\n",
    "    `current_classes` string, a warning will be shown but the add will still be\n",
    "    completed. The warning is there to make it known that the addition of the class\n",
    "    could override these prefix matched existing classes in the `current_classes`\n",
    "    string. The developer should evaluate the add and ensure that this is not the case.\n",
    "    It is possible that there is no overriding behavior even when there are multiple\n",
    "    classes with the same prefix. If this is the case, the warning can be suppressed by\n",
    "    setting the `ignore_prefix_warning` to True.\n",
    "\n",
    "    Parameters\n",
    "    ----------\n",
    "    current_classes : str\n",
    "        Current utility class string.\n",
    "    remove_classes : list[str] | None, optional\n",
    "        Classes to be removed, by default None.\n",
    "    add_classes : list[str] | None, optional\n",
    "        Classes to be added, by default None.\n",
    "    ignore_prefix_warning : bool, optional\n",
    "        Flag for suppressing the prefix warning, by default False.\n",
    "\n",
    "    Returns\n",
    "    -------\n",
    "    str\n",
    "        Updated utility class string.\n",
    "    \"\"\"\n",
    "    # Check if both optional arguments were not provided.\n",
    "    if remove_classes is None and add_classes is None:\n",
    "        raise RuntimeError(\n",
    "            \"Both arguments `remove_classes` and `add_classes` were not provided. \"\n",
    "            \"Please provide at least one of these arguments.\"\n",
    "        )\n",
    "\n",
    "    current_class_list = current_classes.split()\n",
    "    # Pattern to match the prefix of a utility class.\n",
    "    prefix_pattern = r\"^-?([a-z:]+)\"\n",
    "\n",
    "    # Remove and/or Add Classes --------------------------------------------------------\n",
    "    if remove_classes:\n",
    "        for remove_class in remove_classes:\n",
    "            try:\n",
    "                current_class_list.remove(remove_class)\n",
    "            except ValueError as err:\n",
    "                raise ValueError(\n",
    "                    f\"The string '{remove_class}', from the `remove_classes` argument, \"\n",
    "                    f\"was not found in the `current_classes` string:\\n\"\n",
    "                    f\"'{current_classes}'\"\n",
    "                ) from err\n",
    "\n",
    "    if add_classes:\n",
    "        for add_class in add_classes:\n",
    "            # Check if the class is already in the `current_class_list`.\n",
    "            if add_class in current_class_list:\n",
    "                raise RuntimeError(\n",
    "                    f\"The string '{add_class}', from the `add_classes` argument, is \"\n",
    "                    f\"already found within the `current_classes` string:\\n\"\n",
    "                    f\"'{current_classes}'\"\n",
    "                )\n",
    "\n",
    "            # Capture the prefix of the incoming add class.\n",
    "            try:\n",
    "                match = re.search(prefix_pattern, add_class)\n",
    "                assert match is not None\n",
    "                prefix = match.group(1)\n",
    "            except AttributeError as err:\n",
    "                raise RuntimeError(\n",
    "                    f\"The string '{add_class}', from the `add_classes` argument, is \"\n",
    "                    f\"not a valid utility class.\"\n",
    "                ) from err\n",
    "\n",
    "            # Capture all classes from `current_classes_list` that match the prefix for\n",
    "            # the current add class.\n",
    "            prefix_match_classes = []\n",
    "            for util_class in current_class_list:\n",
    "                prefix_match = re.search(prefix, util_class)\n",
    "                if prefix_match:\n",
    "                    prefix_match_classes.append(util_class)\n",
    "\n",
    "            # Warn that there are matches that could result in classes that get\n",
    "            # overridden by the add. This is a warning and not an error because it is\n",
    "            # possible to have more than one utility class with the same prefix and not\n",
    "            # have any overriding behavior.\n",
    "            if prefix_match_classes:\n",
    "                if not ignore_prefix_warning:\n",
    "                    print(\n",
    "                        f\"WARNING: Upon adding the string '{add_class}', the following \"\n",
    "                        f\"class(es) with the same prefix '{prefix}' were found within \"\n",
    "                        f\"the `current_classes` string: {prefix_match_classes}\\nIf \"\n",
    "                        f\"this addition does not result in conflicts, this warning can \"\n",
    "                        f\"be suppressed by setting the `ignore_prefix_warning` \"\n",
    "                        f\"argument to True.\\n\"\n",
    "                    )\n",
    "            current_class_list.append(add_class)\n",
    "    return \" \".join(current_class_list)"
   ]
  },
  {
   "cell_type": "code",
   "execution_count": 4,
   "id": "660c42ed-31e9-4d17-a266-c713cfec7f07",
   "metadata": {
    "tags": []
   },
   "outputs": [],
   "source": [
    "def click_new_page(pathname, available_paths):\n",
    "    \"\"\"Simulate a click on a page link.\"\"\"\n",
    "    choice = random.choice(available_paths)\n",
    "    available_paths.append(pathname)\n",
    "    available_paths.remove(choice)\n",
    "\n",
    "    return choice, available_paths"
   ]
  },
  {
   "cell_type": "code",
   "execution_count": 5,
   "id": "d5195746-88a7-4f5b-8462-24bb5cc3e9f6",
   "metadata": {},
   "outputs": [],
   "source": [
    "def update_sidebar_style(pathname, input_icon_src, input_link_class):\n",
    "    \"\"\"Update icons and link colors when a link is active.\n",
    "\n",
    "    Parameters\n",
    "    ----------\n",
    "    pathname : str\n",
    "        Current pathname of the app.\n",
    "    input_icon_src : dict[str, str]\n",
    "        Contains the src attribute for each page link's icon.\n",
    "    input_link_class : dict[str, str]\n",
    "        Contains the class attribute for each page link.\n",
    "\n",
    "    Returns\n",
    "    -------\n",
    "    dict[str, dict[str, str]]\n",
    "        Contains the updated icon src attributes and page link class attributes.\n",
    "    \"\"\"\n",
    "    icon_src = input_icon_src.copy()\n",
    "    link_class = input_link_class.copy()\n",
    "\n",
    "    # Reset previously active page link to styling for inactive state ------------------\n",
    "    iis = pd.Series(link_class)\n",
    "    pattern_active = COLORS[\"bg_color_light\"]\n",
    "    is_active = iis[iis.str.contains(pattern_active)]\n",
    "\n",
    "    # If there is a page with a dark icon, change it back to light icon.\n",
    "    if not is_active.empty:\n",
    "        previous_pathname = is_active.index[0]\n",
    "        icon_src[previous_pathname] = re.sub(\n",
    "            r\"_dark\\.\", \"_light.\", icon_src[previous_pathname]\n",
    "        )\n",
    "        link_class[previous_pathname] = update_utility_classes(\n",
    "            current_classes=is_active.loc[previous_pathname],\n",
    "            remove_classes=[COLORS[\"bg_color_light\"], COLORS[\"text_color_dark\"]],\n",
    "            add_classes=[\n",
    "                COLORS[\"bg_color_dark\"],\n",
    "                COLORS[\"text_color_light\"],\n",
    "                COLORS[\"hover_color_dark\"],\n",
    "            ],\n",
    "        )\n",
    "    else:\n",
    "        previous_pathname = None\n",
    "\n",
    "    # Update current active page link to styling for active state ----------------------\n",
    "    if pathname == \"/\":\n",
    "        page = \"home\"\n",
    "    else:\n",
    "        page = pathname.replace(\"/\", \"\")\n",
    "\n",
    "    # Try/except is used because it is possible to enter a route that doesn't exist,\n",
    "    # resulting in a KeyError when trying to access that `page` name.\n",
    "    try:\n",
    "        icon_src[page] = re.sub(r\"_light\\.\", \"_dark.\", icon_src[page])\n",
    "        link_class[page] = update_utility_classes(\n",
    "            current_classes=link_class[page],\n",
    "            remove_classes=[\n",
    "                COLORS[\"bg_color_dark\"],\n",
    "                COLORS[\"text_color_light\"],\n",
    "                COLORS[\"hover_color_dark\"],\n",
    "            ],\n",
    "            add_classes=[COLORS[\"bg_color_light\"], COLORS[\"text_color_dark\"]],\n",
    "        )\n",
    "    except KeyError:\n",
    "        print(f\"The page route '{page}' does not exist.\")\n",
    "\n",
    "    return {\n",
    "        \"output_icon_src\": {**icon_src},\n",
    "        \"output_link_class\": {**link_class},\n",
    "    }"
   ]
  },
  {
   "cell_type": "code",
   "execution_count": 6,
   "id": "10fb29a8-7ae1-4a24-ba0d-de8387c7cf69",
   "metadata": {
    "tags": []
   },
   "outputs": [
    {
     "data": {
      "text/html": [
       "<pre style=\"white-space:pre;overflow-x:auto;line-height:normal;font-family:Menlo,'DejaVu Sans Mono',consolas,'Courier New',monospace\">Load Page\n",
       "</pre>\n"
      ],
      "text/plain": [
       "Load Page\n"
      ]
     },
     "metadata": {},
     "output_type": "display_data"
    },
    {
     "data": {
      "text/html": [
       "<pre style=\"white-space:pre;overflow-x:auto;line-height:normal;font-family:Menlo,'DejaVu Sans Mono',consolas,'Courier New',monospace\">starting pathname: <span style=\"color: #800080; text-decoration-color: #800080\">/</span><span style=\"color: #ff00ff; text-decoration-color: #ff00ff\">3</span>\n",
       "</pre>\n"
      ],
      "text/plain": [
       "starting pathname: \u001b[35m/\u001b[0m\u001b[95m3\u001b[0m\n"
      ]
     },
     "metadata": {},
     "output_type": "display_data"
    },
    {
     "data": {
      "text/html": [
       "<pre style=\"white-space:pre;overflow-x:auto;line-height:normal;font-family:Menlo,'DejaVu Sans Mono',consolas,'Courier New',monospace\">starting input_icon_src: <span style=\"font-weight: bold\">{</span><span style=\"color: #008000; text-decoration-color: #008000\">'0'</span>: <span style=\"color: #008000; text-decoration-color: #008000\">'/assets/images/0_light.svg'</span>, <span style=\"color: #008000; text-decoration-color: #008000\">'1'</span>: <span style=\"color: #008000; text-decoration-color: #008000\">'/assets/images/1_light.svg'</span>, <span style=\"color: #008000; text-decoration-color: #008000\">'2'</span>: \n",
       "<span style=\"color: #008000; text-decoration-color: #008000\">'/assets/images/2_light.svg'</span>, <span style=\"color: #008000; text-decoration-color: #008000\">'3'</span>: <span style=\"color: #008000; text-decoration-color: #008000\">'/assets/images/3_light.svg'</span>, <span style=\"color: #008000; text-decoration-color: #008000\">'4'</span>: <span style=\"color: #008000; text-decoration-color: #008000\">'/assets/images/4_light.svg'</span>, <span style=\"color: #008000; text-decoration-color: #008000\">'5'</span>: \n",
       "<span style=\"color: #008000; text-decoration-color: #008000\">'/assets/images/5_light.svg'</span>, <span style=\"color: #008000; text-decoration-color: #008000\">'6'</span>: <span style=\"color: #008000; text-decoration-color: #008000\">'/assets/images/6_light.svg'</span><span style=\"font-weight: bold\">}</span>\n",
       "</pre>\n"
      ],
      "text/plain": [
       "starting input_icon_src: \u001b[1m{\u001b[0m\u001b[32m'0'\u001b[0m: \u001b[32m'/assets/images/0_light.svg'\u001b[0m, \u001b[32m'1'\u001b[0m: \u001b[32m'/assets/images/1_light.svg'\u001b[0m, \u001b[32m'2'\u001b[0m: \n",
       "\u001b[32m'/assets/images/2_light.svg'\u001b[0m, \u001b[32m'3'\u001b[0m: \u001b[32m'/assets/images/3_light.svg'\u001b[0m, \u001b[32m'4'\u001b[0m: \u001b[32m'/assets/images/4_light.svg'\u001b[0m, \u001b[32m'5'\u001b[0m: \n",
       "\u001b[32m'/assets/images/5_light.svg'\u001b[0m, \u001b[32m'6'\u001b[0m: \u001b[32m'/assets/images/6_light.svg'\u001b[0m\u001b[1m}\u001b[0m\n"
      ]
     },
     "metadata": {},
     "output_type": "display_data"
    },
    {
     "data": {
      "text/html": [
       "<pre style=\"white-space:pre;overflow-x:auto;line-height:normal;font-family:Menlo,'DejaVu Sans Mono',consolas,'Courier New',monospace\">starting input_link_class: <span style=\"font-weight: bold\">{</span><span style=\"color: #008000; text-decoration-color: #008000\">'0'</span>: <span style=\"color: #008000; text-decoration-color: #008000\">'px-4 py-2 flex space-x-2 items-center bg-slate-800 text-emerald-50 </span>\n",
       "<span style=\"color: #008000; text-decoration-color: #008000\">hover:bg-slate-700'</span>, <span style=\"color: #008000; text-decoration-color: #008000\">'1'</span>: <span style=\"color: #008000; text-decoration-color: #008000\">'px-4 py-2 flex space-x-2 items-center bg-slate-800 text-emerald-50 hover:bg-slate-700'</span>, \n",
       "<span style=\"color: #008000; text-decoration-color: #008000\">'2'</span>: <span style=\"color: #008000; text-decoration-color: #008000\">'px-4 py-2 flex space-x-2 items-center bg-slate-800 text-emerald-50 hover:bg-slate-700'</span>, <span style=\"color: #008000; text-decoration-color: #008000\">'3'</span>: <span style=\"color: #008000; text-decoration-color: #008000\">'px-4 py-2 flex </span>\n",
       "<span style=\"color: #008000; text-decoration-color: #008000\">space-x-2 items-center bg-slate-800 text-emerald-50 hover:bg-slate-700'</span>, <span style=\"color: #008000; text-decoration-color: #008000\">'4'</span>: <span style=\"color: #008000; text-decoration-color: #008000\">'px-4 py-2 flex space-x-2 </span>\n",
       "<span style=\"color: #008000; text-decoration-color: #008000\">items-center bg-slate-800 text-emerald-50 hover:bg-slate-700'</span>, <span style=\"color: #008000; text-decoration-color: #008000\">'5'</span>: <span style=\"color: #008000; text-decoration-color: #008000\">'px-4 py-2 flex space-x-2 items-center </span>\n",
       "<span style=\"color: #008000; text-decoration-color: #008000\">bg-slate-800 text-emerald-50 hover:bg-slate-700'</span>, <span style=\"color: #008000; text-decoration-color: #008000\">'6'</span>: <span style=\"color: #008000; text-decoration-color: #008000\">'px-4 py-2 flex space-x-2 items-center bg-slate-800 </span>\n",
       "<span style=\"color: #008000; text-decoration-color: #008000\">text-emerald-50 hover:bg-slate-700'</span><span style=\"font-weight: bold\">}</span>\n",
       "</pre>\n"
      ],
      "text/plain": [
       "starting input_link_class: \u001b[1m{\u001b[0m\u001b[32m'0'\u001b[0m: \u001b[32m'px-4 py-2 flex space-x-2 items-center bg-slate-800 text-emerald-50 \u001b[0m\n",
       "\u001b[32mhover:bg-slate-700'\u001b[0m, \u001b[32m'1'\u001b[0m: \u001b[32m'px-4 py-2 flex space-x-2 items-center bg-slate-800 text-emerald-50 hover:bg-slate-700'\u001b[0m, \n",
       "\u001b[32m'2'\u001b[0m: \u001b[32m'px-4 py-2 flex space-x-2 items-center bg-slate-800 text-emerald-50 hover:bg-slate-700'\u001b[0m, \u001b[32m'3'\u001b[0m: \u001b[32m'px-4 py-2 flex \u001b[0m\n",
       "\u001b[32mspace-x-2 items-center bg-slate-800 text-emerald-50 hover:bg-slate-700'\u001b[0m, \u001b[32m'4'\u001b[0m: \u001b[32m'px-4 py-2 flex space-x-2 \u001b[0m\n",
       "\u001b[32mitems-center bg-slate-800 text-emerald-50 hover:bg-slate-700'\u001b[0m, \u001b[32m'5'\u001b[0m: \u001b[32m'px-4 py-2 flex space-x-2 items-center \u001b[0m\n",
       "\u001b[32mbg-slate-800 text-emerald-50 hover:bg-slate-700'\u001b[0m, \u001b[32m'6'\u001b[0m: \u001b[32m'px-4 py-2 flex space-x-2 items-center bg-slate-800 \u001b[0m\n",
       "\u001b[32mtext-emerald-50 hover:bg-slate-700'\u001b[0m\u001b[1m}\u001b[0m\n"
      ]
     },
     "metadata": {},
     "output_type": "display_data"
    },
    {
     "data": {
      "text/html": [
       "<pre style=\"white-space:pre;overflow-x:auto;line-height:normal;font-family:Menlo,'DejaVu Sans Mono',consolas,'Courier New',monospace\">On Load, Callback Fires\n",
       "</pre>\n"
      ],
      "text/plain": [
       "On Load, Callback Fires\n"
      ]
     },
     "metadata": {},
     "output_type": "display_data"
    },
    {
     "data": {
      "text/html": [
       "<pre style=\"white-space:pre;overflow-x:auto;line-height:normal;font-family:Menlo,'DejaVu Sans Mono',consolas,'Courier New',monospace\">output_icon_src: <span style=\"font-weight: bold\">{</span><span style=\"color: #008000; text-decoration-color: #008000\">'0'</span>: <span style=\"color: #008000; text-decoration-color: #008000\">'/assets/images/0_light.svg'</span>, <span style=\"color: #008000; text-decoration-color: #008000\">'1'</span>: <span style=\"color: #008000; text-decoration-color: #008000\">'/assets/images/1_light.svg'</span>, <span style=\"color: #008000; text-decoration-color: #008000\">'2'</span>: \n",
       "<span style=\"color: #008000; text-decoration-color: #008000\">'/assets/images/2_light.svg'</span>, <span style=\"color: #008000; text-decoration-color: #008000\">'3'</span>: <span style=\"color: #008000; text-decoration-color: #008000\">'/assets/images/3_dark.svg'</span>, <span style=\"color: #008000; text-decoration-color: #008000\">'4'</span>: <span style=\"color: #008000; text-decoration-color: #008000\">'/assets/images/4_light.svg'</span>, <span style=\"color: #008000; text-decoration-color: #008000\">'5'</span>: \n",
       "<span style=\"color: #008000; text-decoration-color: #008000\">'/assets/images/5_light.svg'</span>, <span style=\"color: #008000; text-decoration-color: #008000\">'6'</span>: <span style=\"color: #008000; text-decoration-color: #008000\">'/assets/images/6_light.svg'</span><span style=\"font-weight: bold\">}</span>\n",
       "</pre>\n"
      ],
      "text/plain": [
       "output_icon_src: \u001b[1m{\u001b[0m\u001b[32m'0'\u001b[0m: \u001b[32m'/assets/images/0_light.svg'\u001b[0m, \u001b[32m'1'\u001b[0m: \u001b[32m'/assets/images/1_light.svg'\u001b[0m, \u001b[32m'2'\u001b[0m: \n",
       "\u001b[32m'/assets/images/2_light.svg'\u001b[0m, \u001b[32m'3'\u001b[0m: \u001b[32m'/assets/images/3_dark.svg'\u001b[0m, \u001b[32m'4'\u001b[0m: \u001b[32m'/assets/images/4_light.svg'\u001b[0m, \u001b[32m'5'\u001b[0m: \n",
       "\u001b[32m'/assets/images/5_light.svg'\u001b[0m, \u001b[32m'6'\u001b[0m: \u001b[32m'/assets/images/6_light.svg'\u001b[0m\u001b[1m}\u001b[0m\n"
      ]
     },
     "metadata": {},
     "output_type": "display_data"
    },
    {
     "data": {
      "text/html": [
       "<pre style=\"white-space:pre;overflow-x:auto;line-height:normal;font-family:Menlo,'DejaVu Sans Mono',consolas,'Courier New',monospace\">output_link_class: <span style=\"font-weight: bold\">{</span><span style=\"color: #008000; text-decoration-color: #008000\">'0'</span>: <span style=\"color: #008000; text-decoration-color: #008000\">'px-4 py-2 flex space-x-2 items-center bg-slate-800 text-emerald-50 hover:bg-slate-700'</span>, \n",
       "<span style=\"color: #008000; text-decoration-color: #008000\">'1'</span>: <span style=\"color: #008000; text-decoration-color: #008000\">'px-4 py-2 flex space-x-2 items-center bg-slate-800 text-emerald-50 hover:bg-slate-700'</span>, <span style=\"color: #008000; text-decoration-color: #008000\">'2'</span>: <span style=\"color: #008000; text-decoration-color: #008000\">'px-4 py-2 flex </span>\n",
       "<span style=\"color: #008000; text-decoration-color: #008000\">space-x-2 items-center bg-slate-800 text-emerald-50 hover:bg-slate-700'</span>, <span style=\"color: #008000; text-decoration-color: #008000\">'3'</span>: <span style=\"color: #008000; text-decoration-color: #008000\">'px-4 py-2 flex space-x-2 </span>\n",
       "<span style=\"color: #008000; text-decoration-color: #008000\">items-center bg-emerald-50 text-slate-800'</span>, <span style=\"color: #008000; text-decoration-color: #008000\">'4'</span>: <span style=\"color: #008000; text-decoration-color: #008000\">'px-4 py-2 flex space-x-2 items-center bg-slate-800 </span>\n",
       "<span style=\"color: #008000; text-decoration-color: #008000\">text-emerald-50 hover:bg-slate-700'</span>, <span style=\"color: #008000; text-decoration-color: #008000\">'5'</span>: <span style=\"color: #008000; text-decoration-color: #008000\">'px-4 py-2 flex space-x-2 items-center bg-slate-800 text-emerald-50 </span>\n",
       "<span style=\"color: #008000; text-decoration-color: #008000\">hover:bg-slate-700'</span>, <span style=\"color: #008000; text-decoration-color: #008000\">'6'</span>: <span style=\"color: #008000; text-decoration-color: #008000\">'px-4 py-2 flex space-x-2 items-center bg-slate-800 text-emerald-50 hover:bg-slate-700'</span><span style=\"font-weight: bold\">}</span>\n",
       "</pre>\n"
      ],
      "text/plain": [
       "output_link_class: \u001b[1m{\u001b[0m\u001b[32m'0'\u001b[0m: \u001b[32m'px-4 py-2 flex space-x-2 items-center bg-slate-800 text-emerald-50 hover:bg-slate-700'\u001b[0m, \n",
       "\u001b[32m'1'\u001b[0m: \u001b[32m'px-4 py-2 flex space-x-2 items-center bg-slate-800 text-emerald-50 hover:bg-slate-700'\u001b[0m, \u001b[32m'2'\u001b[0m: \u001b[32m'px-4 py-2 flex \u001b[0m\n",
       "\u001b[32mspace-x-2 items-center bg-slate-800 text-emerald-50 hover:bg-slate-700'\u001b[0m, \u001b[32m'3'\u001b[0m: \u001b[32m'px-4 py-2 flex space-x-2 \u001b[0m\n",
       "\u001b[32mitems-center bg-emerald-50 text-slate-800'\u001b[0m, \u001b[32m'4'\u001b[0m: \u001b[32m'px-4 py-2 flex space-x-2 items-center bg-slate-800 \u001b[0m\n",
       "\u001b[32mtext-emerald-50 hover:bg-slate-700'\u001b[0m, \u001b[32m'5'\u001b[0m: \u001b[32m'px-4 py-2 flex space-x-2 items-center bg-slate-800 text-emerald-50 \u001b[0m\n",
       "\u001b[32mhover:bg-slate-700'\u001b[0m, \u001b[32m'6'\u001b[0m: \u001b[32m'px-4 py-2 flex space-x-2 items-center bg-slate-800 text-emerald-50 hover:bg-slate-700'\u001b[0m\u001b[1m}\u001b[0m\n"
      ]
     },
     "metadata": {},
     "output_type": "display_data"
    },
    {
     "data": {
      "text/html": [
       "<pre style=\"white-space:pre;overflow-x:auto;line-height:normal;font-family:Menlo,'DejaVu Sans Mono',consolas,'Courier New',monospace\">------------------------\n",
       "</pre>\n"
      ],
      "text/plain": [
       "------------------------\n"
      ]
     },
     "metadata": {},
     "output_type": "display_data"
    },
    {
     "data": {
      "text/html": [
       "<pre style=\"white-space:pre;overflow-x:auto;line-height:normal;font-family:Menlo,'DejaVu Sans Mono',consolas,'Courier New',monospace\">Click On New Page\n",
       "</pre>\n"
      ],
      "text/plain": [
       "Click On New Page\n"
      ]
     },
     "metadata": {},
     "output_type": "display_data"
    },
    {
     "data": {
      "text/html": [
       "<pre style=\"white-space:pre;overflow-x:auto;line-height:normal;font-family:Menlo,'DejaVu Sans Mono',consolas,'Courier New',monospace\">pathname: <span style=\"color: #800080; text-decoration-color: #800080\">/</span><span style=\"color: #ff00ff; text-decoration-color: #ff00ff\">1</span>\n",
       "</pre>\n"
      ],
      "text/plain": [
       "pathname: \u001b[35m/\u001b[0m\u001b[95m1\u001b[0m\n"
      ]
     },
     "metadata": {},
     "output_type": "display_data"
    },
    {
     "data": {
      "text/html": [
       "<pre style=\"white-space:pre;overflow-x:auto;line-height:normal;font-family:Menlo,'DejaVu Sans Mono',consolas,'Courier New',monospace\">Callback Fires\n",
       "</pre>\n"
      ],
      "text/plain": [
       "Callback Fires\n"
      ]
     },
     "metadata": {},
     "output_type": "display_data"
    },
    {
     "data": {
      "text/html": [
       "<pre style=\"white-space:pre;overflow-x:auto;line-height:normal;font-family:Menlo,'DejaVu Sans Mono',consolas,'Courier New',monospace\">output_icon_src: <span style=\"font-weight: bold\">{</span><span style=\"color: #008000; text-decoration-color: #008000\">'0'</span>: <span style=\"color: #008000; text-decoration-color: #008000\">'/assets/images/0_light.svg'</span>, <span style=\"color: #008000; text-decoration-color: #008000\">'1'</span>: <span style=\"color: #008000; text-decoration-color: #008000\">'/assets/images/1_dark.svg'</span>, <span style=\"color: #008000; text-decoration-color: #008000\">'2'</span>: \n",
       "<span style=\"color: #008000; text-decoration-color: #008000\">'/assets/images/2_light.svg'</span>, <span style=\"color: #008000; text-decoration-color: #008000\">'3'</span>: <span style=\"color: #008000; text-decoration-color: #008000\">'/assets/images/3_light.svg'</span>, <span style=\"color: #008000; text-decoration-color: #008000\">'4'</span>: <span style=\"color: #008000; text-decoration-color: #008000\">'/assets/images/4_light.svg'</span>, <span style=\"color: #008000; text-decoration-color: #008000\">'5'</span>: \n",
       "<span style=\"color: #008000; text-decoration-color: #008000\">'/assets/images/5_light.svg'</span>, <span style=\"color: #008000; text-decoration-color: #008000\">'6'</span>: <span style=\"color: #008000; text-decoration-color: #008000\">'/assets/images/6_light.svg'</span><span style=\"font-weight: bold\">}</span>\n",
       "</pre>\n"
      ],
      "text/plain": [
       "output_icon_src: \u001b[1m{\u001b[0m\u001b[32m'0'\u001b[0m: \u001b[32m'/assets/images/0_light.svg'\u001b[0m, \u001b[32m'1'\u001b[0m: \u001b[32m'/assets/images/1_dark.svg'\u001b[0m, \u001b[32m'2'\u001b[0m: \n",
       "\u001b[32m'/assets/images/2_light.svg'\u001b[0m, \u001b[32m'3'\u001b[0m: \u001b[32m'/assets/images/3_light.svg'\u001b[0m, \u001b[32m'4'\u001b[0m: \u001b[32m'/assets/images/4_light.svg'\u001b[0m, \u001b[32m'5'\u001b[0m: \n",
       "\u001b[32m'/assets/images/5_light.svg'\u001b[0m, \u001b[32m'6'\u001b[0m: \u001b[32m'/assets/images/6_light.svg'\u001b[0m\u001b[1m}\u001b[0m\n"
      ]
     },
     "metadata": {},
     "output_type": "display_data"
    },
    {
     "data": {
      "text/html": [
       "<pre style=\"white-space:pre;overflow-x:auto;line-height:normal;font-family:Menlo,'DejaVu Sans Mono',consolas,'Courier New',monospace\">output_link_class: <span style=\"font-weight: bold\">{</span><span style=\"color: #008000; text-decoration-color: #008000\">'0'</span>: <span style=\"color: #008000; text-decoration-color: #008000\">'px-4 py-2 flex space-x-2 items-center bg-slate-800 text-emerald-50 hover:bg-slate-700'</span>, \n",
       "<span style=\"color: #008000; text-decoration-color: #008000\">'1'</span>: <span style=\"color: #008000; text-decoration-color: #008000\">'px-4 py-2 flex space-x-2 items-center bg-emerald-50 text-slate-800'</span>, <span style=\"color: #008000; text-decoration-color: #008000\">'2'</span>: <span style=\"color: #008000; text-decoration-color: #008000\">'px-4 py-2 flex space-x-2 </span>\n",
       "<span style=\"color: #008000; text-decoration-color: #008000\">items-center bg-slate-800 text-emerald-50 hover:bg-slate-700'</span>, <span style=\"color: #008000; text-decoration-color: #008000\">'3'</span>: <span style=\"color: #008000; text-decoration-color: #008000\">'px-4 py-2 flex space-x-2 items-center </span>\n",
       "<span style=\"color: #008000; text-decoration-color: #008000\">bg-slate-800 text-emerald-50 hover:bg-slate-700'</span>, <span style=\"color: #008000; text-decoration-color: #008000\">'4'</span>: <span style=\"color: #008000; text-decoration-color: #008000\">'px-4 py-2 flex space-x-2 items-center bg-slate-800 </span>\n",
       "<span style=\"color: #008000; text-decoration-color: #008000\">text-emerald-50 hover:bg-slate-700'</span>, <span style=\"color: #008000; text-decoration-color: #008000\">'5'</span>: <span style=\"color: #008000; text-decoration-color: #008000\">'px-4 py-2 flex space-x-2 items-center bg-slate-800 text-emerald-50 </span>\n",
       "<span style=\"color: #008000; text-decoration-color: #008000\">hover:bg-slate-700'</span>, <span style=\"color: #008000; text-decoration-color: #008000\">'6'</span>: <span style=\"color: #008000; text-decoration-color: #008000\">'px-4 py-2 flex space-x-2 items-center bg-slate-800 text-emerald-50 hover:bg-slate-700'</span><span style=\"font-weight: bold\">}</span>\n",
       "</pre>\n"
      ],
      "text/plain": [
       "output_link_class: \u001b[1m{\u001b[0m\u001b[32m'0'\u001b[0m: \u001b[32m'px-4 py-2 flex space-x-2 items-center bg-slate-800 text-emerald-50 hover:bg-slate-700'\u001b[0m, \n",
       "\u001b[32m'1'\u001b[0m: \u001b[32m'px-4 py-2 flex space-x-2 items-center bg-emerald-50 text-slate-800'\u001b[0m, \u001b[32m'2'\u001b[0m: \u001b[32m'px-4 py-2 flex space-x-2 \u001b[0m\n",
       "\u001b[32mitems-center bg-slate-800 text-emerald-50 hover:bg-slate-700'\u001b[0m, \u001b[32m'3'\u001b[0m: \u001b[32m'px-4 py-2 flex space-x-2 items-center \u001b[0m\n",
       "\u001b[32mbg-slate-800 text-emerald-50 hover:bg-slate-700'\u001b[0m, \u001b[32m'4'\u001b[0m: \u001b[32m'px-4 py-2 flex space-x-2 items-center bg-slate-800 \u001b[0m\n",
       "\u001b[32mtext-emerald-50 hover:bg-slate-700'\u001b[0m, \u001b[32m'5'\u001b[0m: \u001b[32m'px-4 py-2 flex space-x-2 items-center bg-slate-800 text-emerald-50 \u001b[0m\n",
       "\u001b[32mhover:bg-slate-700'\u001b[0m, \u001b[32m'6'\u001b[0m: \u001b[32m'px-4 py-2 flex space-x-2 items-center bg-slate-800 text-emerald-50 hover:bg-slate-700'\u001b[0m\u001b[1m}\u001b[0m\n"
      ]
     },
     "metadata": {},
     "output_type": "display_data"
    },
    {
     "data": {
      "text/html": [
       "<pre style=\"white-space:pre;overflow-x:auto;line-height:normal;font-family:Menlo,'DejaVu Sans Mono',consolas,'Courier New',monospace\">------------------------\n",
       "</pre>\n"
      ],
      "text/plain": [
       "------------------------\n"
      ]
     },
     "metadata": {},
     "output_type": "display_data"
    },
    {
     "data": {
      "text/html": [
       "<pre style=\"white-space:pre;overflow-x:auto;line-height:normal;font-family:Menlo,'DejaVu Sans Mono',consolas,'Courier New',monospace\">Click On New Page\n",
       "</pre>\n"
      ],
      "text/plain": [
       "Click On New Page\n"
      ]
     },
     "metadata": {},
     "output_type": "display_data"
    },
    {
     "data": {
      "text/html": [
       "<pre style=\"white-space:pre;overflow-x:auto;line-height:normal;font-family:Menlo,'DejaVu Sans Mono',consolas,'Courier New',monospace\">pathname: <span style=\"color: #800080; text-decoration-color: #800080\">/</span><span style=\"color: #ff00ff; text-decoration-color: #ff00ff\">0</span>\n",
       "</pre>\n"
      ],
      "text/plain": [
       "pathname: \u001b[35m/\u001b[0m\u001b[95m0\u001b[0m\n"
      ]
     },
     "metadata": {},
     "output_type": "display_data"
    },
    {
     "data": {
      "text/html": [
       "<pre style=\"white-space:pre;overflow-x:auto;line-height:normal;font-family:Menlo,'DejaVu Sans Mono',consolas,'Courier New',monospace\">Callback Fires\n",
       "</pre>\n"
      ],
      "text/plain": [
       "Callback Fires\n"
      ]
     },
     "metadata": {},
     "output_type": "display_data"
    },
    {
     "data": {
      "text/html": [
       "<pre style=\"white-space:pre;overflow-x:auto;line-height:normal;font-family:Menlo,'DejaVu Sans Mono',consolas,'Courier New',monospace\">output_icon_src: <span style=\"font-weight: bold\">{</span><span style=\"color: #008000; text-decoration-color: #008000\">'0'</span>: <span style=\"color: #008000; text-decoration-color: #008000\">'/assets/images/0_dark.svg'</span>, <span style=\"color: #008000; text-decoration-color: #008000\">'1'</span>: <span style=\"color: #008000; text-decoration-color: #008000\">'/assets/images/1_light.svg'</span>, <span style=\"color: #008000; text-decoration-color: #008000\">'2'</span>: \n",
       "<span style=\"color: #008000; text-decoration-color: #008000\">'/assets/images/2_light.svg'</span>, <span style=\"color: #008000; text-decoration-color: #008000\">'3'</span>: <span style=\"color: #008000; text-decoration-color: #008000\">'/assets/images/3_light.svg'</span>, <span style=\"color: #008000; text-decoration-color: #008000\">'4'</span>: <span style=\"color: #008000; text-decoration-color: #008000\">'/assets/images/4_light.svg'</span>, <span style=\"color: #008000; text-decoration-color: #008000\">'5'</span>: \n",
       "<span style=\"color: #008000; text-decoration-color: #008000\">'/assets/images/5_light.svg'</span>, <span style=\"color: #008000; text-decoration-color: #008000\">'6'</span>: <span style=\"color: #008000; text-decoration-color: #008000\">'/assets/images/6_light.svg'</span><span style=\"font-weight: bold\">}</span>\n",
       "</pre>\n"
      ],
      "text/plain": [
       "output_icon_src: \u001b[1m{\u001b[0m\u001b[32m'0'\u001b[0m: \u001b[32m'/assets/images/0_dark.svg'\u001b[0m, \u001b[32m'1'\u001b[0m: \u001b[32m'/assets/images/1_light.svg'\u001b[0m, \u001b[32m'2'\u001b[0m: \n",
       "\u001b[32m'/assets/images/2_light.svg'\u001b[0m, \u001b[32m'3'\u001b[0m: \u001b[32m'/assets/images/3_light.svg'\u001b[0m, \u001b[32m'4'\u001b[0m: \u001b[32m'/assets/images/4_light.svg'\u001b[0m, \u001b[32m'5'\u001b[0m: \n",
       "\u001b[32m'/assets/images/5_light.svg'\u001b[0m, \u001b[32m'6'\u001b[0m: \u001b[32m'/assets/images/6_light.svg'\u001b[0m\u001b[1m}\u001b[0m\n"
      ]
     },
     "metadata": {},
     "output_type": "display_data"
    },
    {
     "data": {
      "text/html": [
       "<pre style=\"white-space:pre;overflow-x:auto;line-height:normal;font-family:Menlo,'DejaVu Sans Mono',consolas,'Courier New',monospace\">output_link_class: <span style=\"font-weight: bold\">{</span><span style=\"color: #008000; text-decoration-color: #008000\">'0'</span>: <span style=\"color: #008000; text-decoration-color: #008000\">'px-4 py-2 flex space-x-2 items-center bg-emerald-50 text-slate-800'</span>, <span style=\"color: #008000; text-decoration-color: #008000\">'1'</span>: <span style=\"color: #008000; text-decoration-color: #008000\">'px-4 py-2 flex</span>\n",
       "<span style=\"color: #008000; text-decoration-color: #008000\">space-x-2 items-center bg-slate-800 text-emerald-50 hover:bg-slate-700'</span>, <span style=\"color: #008000; text-decoration-color: #008000\">'2'</span>: <span style=\"color: #008000; text-decoration-color: #008000\">'px-4 py-2 flex space-x-2 </span>\n",
       "<span style=\"color: #008000; text-decoration-color: #008000\">items-center bg-slate-800 text-emerald-50 hover:bg-slate-700'</span>, <span style=\"color: #008000; text-decoration-color: #008000\">'3'</span>: <span style=\"color: #008000; text-decoration-color: #008000\">'px-4 py-2 flex space-x-2 items-center </span>\n",
       "<span style=\"color: #008000; text-decoration-color: #008000\">bg-slate-800 text-emerald-50 hover:bg-slate-700'</span>, <span style=\"color: #008000; text-decoration-color: #008000\">'4'</span>: <span style=\"color: #008000; text-decoration-color: #008000\">'px-4 py-2 flex space-x-2 items-center bg-slate-800 </span>\n",
       "<span style=\"color: #008000; text-decoration-color: #008000\">text-emerald-50 hover:bg-slate-700'</span>, <span style=\"color: #008000; text-decoration-color: #008000\">'5'</span>: <span style=\"color: #008000; text-decoration-color: #008000\">'px-4 py-2 flex space-x-2 items-center bg-slate-800 text-emerald-50 </span>\n",
       "<span style=\"color: #008000; text-decoration-color: #008000\">hover:bg-slate-700'</span>, <span style=\"color: #008000; text-decoration-color: #008000\">'6'</span>: <span style=\"color: #008000; text-decoration-color: #008000\">'px-4 py-2 flex space-x-2 items-center bg-slate-800 text-emerald-50 hover:bg-slate-700'</span><span style=\"font-weight: bold\">}</span>\n",
       "</pre>\n"
      ],
      "text/plain": [
       "output_link_class: \u001b[1m{\u001b[0m\u001b[32m'0'\u001b[0m: \u001b[32m'px-4 py-2 flex space-x-2 items-center bg-emerald-50 text-slate-800'\u001b[0m, \u001b[32m'1'\u001b[0m: \u001b[32m'px-4 py-2 flex\u001b[0m\n",
       "\u001b[32mspace-x-2 items-center bg-slate-800 text-emerald-50 hover:bg-slate-700'\u001b[0m, \u001b[32m'2'\u001b[0m: \u001b[32m'px-4 py-2 flex space-x-2 \u001b[0m\n",
       "\u001b[32mitems-center bg-slate-800 text-emerald-50 hover:bg-slate-700'\u001b[0m, \u001b[32m'3'\u001b[0m: \u001b[32m'px-4 py-2 flex space-x-2 items-center \u001b[0m\n",
       "\u001b[32mbg-slate-800 text-emerald-50 hover:bg-slate-700'\u001b[0m, \u001b[32m'4'\u001b[0m: \u001b[32m'px-4 py-2 flex space-x-2 items-center bg-slate-800 \u001b[0m\n",
       "\u001b[32mtext-emerald-50 hover:bg-slate-700'\u001b[0m, \u001b[32m'5'\u001b[0m: \u001b[32m'px-4 py-2 flex space-x-2 items-center bg-slate-800 text-emerald-50 \u001b[0m\n",
       "\u001b[32mhover:bg-slate-700'\u001b[0m, \u001b[32m'6'\u001b[0m: \u001b[32m'px-4 py-2 flex space-x-2 items-center bg-slate-800 text-emerald-50 hover:bg-slate-700'\u001b[0m\u001b[1m}\u001b[0m\n"
      ]
     },
     "metadata": {},
     "output_type": "display_data"
    },
    {
     "data": {
      "text/html": [
       "<pre style=\"white-space:pre;overflow-x:auto;line-height:normal;font-family:Menlo,'DejaVu Sans Mono',consolas,'Courier New',monospace\">------------------------\n",
       "</pre>\n"
      ],
      "text/plain": [
       "------------------------\n"
      ]
     },
     "metadata": {},
     "output_type": "display_data"
    },
    {
     "data": {
      "text/html": [
       "<pre style=\"white-space:pre;overflow-x:auto;line-height:normal;font-family:Menlo,'DejaVu Sans Mono',consolas,'Courier New',monospace\">Click On New Page\n",
       "</pre>\n"
      ],
      "text/plain": [
       "Click On New Page\n"
      ]
     },
     "metadata": {},
     "output_type": "display_data"
    },
    {
     "data": {
      "text/html": [
       "<pre style=\"white-space:pre;overflow-x:auto;line-height:normal;font-family:Menlo,'DejaVu Sans Mono',consolas,'Courier New',monospace\">pathname: <span style=\"color: #800080; text-decoration-color: #800080\">/</span><span style=\"color: #ff00ff; text-decoration-color: #ff00ff\">3</span>\n",
       "</pre>\n"
      ],
      "text/plain": [
       "pathname: \u001b[35m/\u001b[0m\u001b[95m3\u001b[0m\n"
      ]
     },
     "metadata": {},
     "output_type": "display_data"
    },
    {
     "data": {
      "text/html": [
       "<pre style=\"white-space:pre;overflow-x:auto;line-height:normal;font-family:Menlo,'DejaVu Sans Mono',consolas,'Courier New',monospace\">Callback Fires\n",
       "</pre>\n"
      ],
      "text/plain": [
       "Callback Fires\n"
      ]
     },
     "metadata": {},
     "output_type": "display_data"
    },
    {
     "data": {
      "text/html": [
       "<pre style=\"white-space:pre;overflow-x:auto;line-height:normal;font-family:Menlo,'DejaVu Sans Mono',consolas,'Courier New',monospace\">output_icon_src: <span style=\"font-weight: bold\">{</span><span style=\"color: #008000; text-decoration-color: #008000\">'0'</span>: <span style=\"color: #008000; text-decoration-color: #008000\">'/assets/images/0_light.svg'</span>, <span style=\"color: #008000; text-decoration-color: #008000\">'1'</span>: <span style=\"color: #008000; text-decoration-color: #008000\">'/assets/images/1_light.svg'</span>, <span style=\"color: #008000; text-decoration-color: #008000\">'2'</span>: \n",
       "<span style=\"color: #008000; text-decoration-color: #008000\">'/assets/images/2_light.svg'</span>, <span style=\"color: #008000; text-decoration-color: #008000\">'3'</span>: <span style=\"color: #008000; text-decoration-color: #008000\">'/assets/images/3_dark.svg'</span>, <span style=\"color: #008000; text-decoration-color: #008000\">'4'</span>: <span style=\"color: #008000; text-decoration-color: #008000\">'/assets/images/4_light.svg'</span>, <span style=\"color: #008000; text-decoration-color: #008000\">'5'</span>: \n",
       "<span style=\"color: #008000; text-decoration-color: #008000\">'/assets/images/5_light.svg'</span>, <span style=\"color: #008000; text-decoration-color: #008000\">'6'</span>: <span style=\"color: #008000; text-decoration-color: #008000\">'/assets/images/6_light.svg'</span><span style=\"font-weight: bold\">}</span>\n",
       "</pre>\n"
      ],
      "text/plain": [
       "output_icon_src: \u001b[1m{\u001b[0m\u001b[32m'0'\u001b[0m: \u001b[32m'/assets/images/0_light.svg'\u001b[0m, \u001b[32m'1'\u001b[0m: \u001b[32m'/assets/images/1_light.svg'\u001b[0m, \u001b[32m'2'\u001b[0m: \n",
       "\u001b[32m'/assets/images/2_light.svg'\u001b[0m, \u001b[32m'3'\u001b[0m: \u001b[32m'/assets/images/3_dark.svg'\u001b[0m, \u001b[32m'4'\u001b[0m: \u001b[32m'/assets/images/4_light.svg'\u001b[0m, \u001b[32m'5'\u001b[0m: \n",
       "\u001b[32m'/assets/images/5_light.svg'\u001b[0m, \u001b[32m'6'\u001b[0m: \u001b[32m'/assets/images/6_light.svg'\u001b[0m\u001b[1m}\u001b[0m\n"
      ]
     },
     "metadata": {},
     "output_type": "display_data"
    },
    {
     "data": {
      "text/html": [
       "<pre style=\"white-space:pre;overflow-x:auto;line-height:normal;font-family:Menlo,'DejaVu Sans Mono',consolas,'Courier New',monospace\">output_link_class: <span style=\"font-weight: bold\">{</span><span style=\"color: #008000; text-decoration-color: #008000\">'0'</span>: <span style=\"color: #008000; text-decoration-color: #008000\">'px-4 py-2 flex space-x-2 items-center bg-slate-800 text-emerald-50 hover:bg-slate-700'</span>, \n",
       "<span style=\"color: #008000; text-decoration-color: #008000\">'1'</span>: <span style=\"color: #008000; text-decoration-color: #008000\">'px-4 py-2 flex space-x-2 items-center bg-slate-800 text-emerald-50 hover:bg-slate-700'</span>, <span style=\"color: #008000; text-decoration-color: #008000\">'2'</span>: <span style=\"color: #008000; text-decoration-color: #008000\">'px-4 py-2 flex </span>\n",
       "<span style=\"color: #008000; text-decoration-color: #008000\">space-x-2 items-center bg-slate-800 text-emerald-50 hover:bg-slate-700'</span>, <span style=\"color: #008000; text-decoration-color: #008000\">'3'</span>: <span style=\"color: #008000; text-decoration-color: #008000\">'px-4 py-2 flex space-x-2 </span>\n",
       "<span style=\"color: #008000; text-decoration-color: #008000\">items-center bg-emerald-50 text-slate-800'</span>, <span style=\"color: #008000; text-decoration-color: #008000\">'4'</span>: <span style=\"color: #008000; text-decoration-color: #008000\">'px-4 py-2 flex space-x-2 items-center bg-slate-800 </span>\n",
       "<span style=\"color: #008000; text-decoration-color: #008000\">text-emerald-50 hover:bg-slate-700'</span>, <span style=\"color: #008000; text-decoration-color: #008000\">'5'</span>: <span style=\"color: #008000; text-decoration-color: #008000\">'px-4 py-2 flex space-x-2 items-center bg-slate-800 text-emerald-50 </span>\n",
       "<span style=\"color: #008000; text-decoration-color: #008000\">hover:bg-slate-700'</span>, <span style=\"color: #008000; text-decoration-color: #008000\">'6'</span>: <span style=\"color: #008000; text-decoration-color: #008000\">'px-4 py-2 flex space-x-2 items-center bg-slate-800 text-emerald-50 hover:bg-slate-700'</span><span style=\"font-weight: bold\">}</span>\n",
       "</pre>\n"
      ],
      "text/plain": [
       "output_link_class: \u001b[1m{\u001b[0m\u001b[32m'0'\u001b[0m: \u001b[32m'px-4 py-2 flex space-x-2 items-center bg-slate-800 text-emerald-50 hover:bg-slate-700'\u001b[0m, \n",
       "\u001b[32m'1'\u001b[0m: \u001b[32m'px-4 py-2 flex space-x-2 items-center bg-slate-800 text-emerald-50 hover:bg-slate-700'\u001b[0m, \u001b[32m'2'\u001b[0m: \u001b[32m'px-4 py-2 flex \u001b[0m\n",
       "\u001b[32mspace-x-2 items-center bg-slate-800 text-emerald-50 hover:bg-slate-700'\u001b[0m, \u001b[32m'3'\u001b[0m: \u001b[32m'px-4 py-2 flex space-x-2 \u001b[0m\n",
       "\u001b[32mitems-center bg-emerald-50 text-slate-800'\u001b[0m, \u001b[32m'4'\u001b[0m: \u001b[32m'px-4 py-2 flex space-x-2 items-center bg-slate-800 \u001b[0m\n",
       "\u001b[32mtext-emerald-50 hover:bg-slate-700'\u001b[0m, \u001b[32m'5'\u001b[0m: \u001b[32m'px-4 py-2 flex space-x-2 items-center bg-slate-800 text-emerald-50 \u001b[0m\n",
       "\u001b[32mhover:bg-slate-700'\u001b[0m, \u001b[32m'6'\u001b[0m: \u001b[32m'px-4 py-2 flex space-x-2 items-center bg-slate-800 text-emerald-50 hover:bg-slate-700'\u001b[0m\u001b[1m}\u001b[0m\n"
      ]
     },
     "metadata": {},
     "output_type": "display_data"
    },
    {
     "data": {
      "text/html": [
       "<pre style=\"white-space:pre;overflow-x:auto;line-height:normal;font-family:Menlo,'DejaVu Sans Mono',consolas,'Courier New',monospace\">------------------------\n",
       "</pre>\n"
      ],
      "text/plain": [
       "------------------------\n"
      ]
     },
     "metadata": {},
     "output_type": "display_data"
    },
    {
     "data": {
      "text/html": [
       "<pre style=\"white-space:pre;overflow-x:auto;line-height:normal;font-family:Menlo,'DejaVu Sans Mono',consolas,'Courier New',monospace\">Click On New Page\n",
       "</pre>\n"
      ],
      "text/plain": [
       "Click On New Page\n"
      ]
     },
     "metadata": {},
     "output_type": "display_data"
    },
    {
     "data": {
      "text/html": [
       "<pre style=\"white-space:pre;overflow-x:auto;line-height:normal;font-family:Menlo,'DejaVu Sans Mono',consolas,'Courier New',monospace\">pathname: <span style=\"color: #800080; text-decoration-color: #800080\">/</span><span style=\"color: #ff00ff; text-decoration-color: #ff00ff\">0</span>\n",
       "</pre>\n"
      ],
      "text/plain": [
       "pathname: \u001b[35m/\u001b[0m\u001b[95m0\u001b[0m\n"
      ]
     },
     "metadata": {},
     "output_type": "display_data"
    },
    {
     "data": {
      "text/html": [
       "<pre style=\"white-space:pre;overflow-x:auto;line-height:normal;font-family:Menlo,'DejaVu Sans Mono',consolas,'Courier New',monospace\">Callback Fires\n",
       "</pre>\n"
      ],
      "text/plain": [
       "Callback Fires\n"
      ]
     },
     "metadata": {},
     "output_type": "display_data"
    },
    {
     "data": {
      "text/html": [
       "<pre style=\"white-space:pre;overflow-x:auto;line-height:normal;font-family:Menlo,'DejaVu Sans Mono',consolas,'Courier New',monospace\">output_icon_src: <span style=\"font-weight: bold\">{</span><span style=\"color: #008000; text-decoration-color: #008000\">'0'</span>: <span style=\"color: #008000; text-decoration-color: #008000\">'/assets/images/0_dark.svg'</span>, <span style=\"color: #008000; text-decoration-color: #008000\">'1'</span>: <span style=\"color: #008000; text-decoration-color: #008000\">'/assets/images/1_light.svg'</span>, <span style=\"color: #008000; text-decoration-color: #008000\">'2'</span>: \n",
       "<span style=\"color: #008000; text-decoration-color: #008000\">'/assets/images/2_light.svg'</span>, <span style=\"color: #008000; text-decoration-color: #008000\">'3'</span>: <span style=\"color: #008000; text-decoration-color: #008000\">'/assets/images/3_light.svg'</span>, <span style=\"color: #008000; text-decoration-color: #008000\">'4'</span>: <span style=\"color: #008000; text-decoration-color: #008000\">'/assets/images/4_light.svg'</span>, <span style=\"color: #008000; text-decoration-color: #008000\">'5'</span>: \n",
       "<span style=\"color: #008000; text-decoration-color: #008000\">'/assets/images/5_light.svg'</span>, <span style=\"color: #008000; text-decoration-color: #008000\">'6'</span>: <span style=\"color: #008000; text-decoration-color: #008000\">'/assets/images/6_light.svg'</span><span style=\"font-weight: bold\">}</span>\n",
       "</pre>\n"
      ],
      "text/plain": [
       "output_icon_src: \u001b[1m{\u001b[0m\u001b[32m'0'\u001b[0m: \u001b[32m'/assets/images/0_dark.svg'\u001b[0m, \u001b[32m'1'\u001b[0m: \u001b[32m'/assets/images/1_light.svg'\u001b[0m, \u001b[32m'2'\u001b[0m: \n",
       "\u001b[32m'/assets/images/2_light.svg'\u001b[0m, \u001b[32m'3'\u001b[0m: \u001b[32m'/assets/images/3_light.svg'\u001b[0m, \u001b[32m'4'\u001b[0m: \u001b[32m'/assets/images/4_light.svg'\u001b[0m, \u001b[32m'5'\u001b[0m: \n",
       "\u001b[32m'/assets/images/5_light.svg'\u001b[0m, \u001b[32m'6'\u001b[0m: \u001b[32m'/assets/images/6_light.svg'\u001b[0m\u001b[1m}\u001b[0m\n"
      ]
     },
     "metadata": {},
     "output_type": "display_data"
    },
    {
     "data": {
      "text/html": [
       "<pre style=\"white-space:pre;overflow-x:auto;line-height:normal;font-family:Menlo,'DejaVu Sans Mono',consolas,'Courier New',monospace\">output_link_class: <span style=\"font-weight: bold\">{</span><span style=\"color: #008000; text-decoration-color: #008000\">'0'</span>: <span style=\"color: #008000; text-decoration-color: #008000\">'px-4 py-2 flex space-x-2 items-center bg-emerald-50 text-slate-800'</span>, <span style=\"color: #008000; text-decoration-color: #008000\">'1'</span>: <span style=\"color: #008000; text-decoration-color: #008000\">'px-4 py-2 flex</span>\n",
       "<span style=\"color: #008000; text-decoration-color: #008000\">space-x-2 items-center bg-slate-800 text-emerald-50 hover:bg-slate-700'</span>, <span style=\"color: #008000; text-decoration-color: #008000\">'2'</span>: <span style=\"color: #008000; text-decoration-color: #008000\">'px-4 py-2 flex space-x-2 </span>\n",
       "<span style=\"color: #008000; text-decoration-color: #008000\">items-center bg-slate-800 text-emerald-50 hover:bg-slate-700'</span>, <span style=\"color: #008000; text-decoration-color: #008000\">'3'</span>: <span style=\"color: #008000; text-decoration-color: #008000\">'px-4 py-2 flex space-x-2 items-center </span>\n",
       "<span style=\"color: #008000; text-decoration-color: #008000\">bg-slate-800 text-emerald-50 hover:bg-slate-700'</span>, <span style=\"color: #008000; text-decoration-color: #008000\">'4'</span>: <span style=\"color: #008000; text-decoration-color: #008000\">'px-4 py-2 flex space-x-2 items-center bg-slate-800 </span>\n",
       "<span style=\"color: #008000; text-decoration-color: #008000\">text-emerald-50 hover:bg-slate-700'</span>, <span style=\"color: #008000; text-decoration-color: #008000\">'5'</span>: <span style=\"color: #008000; text-decoration-color: #008000\">'px-4 py-2 flex space-x-2 items-center bg-slate-800 text-emerald-50 </span>\n",
       "<span style=\"color: #008000; text-decoration-color: #008000\">hover:bg-slate-700'</span>, <span style=\"color: #008000; text-decoration-color: #008000\">'6'</span>: <span style=\"color: #008000; text-decoration-color: #008000\">'px-4 py-2 flex space-x-2 items-center bg-slate-800 text-emerald-50 hover:bg-slate-700'</span><span style=\"font-weight: bold\">}</span>\n",
       "</pre>\n"
      ],
      "text/plain": [
       "output_link_class: \u001b[1m{\u001b[0m\u001b[32m'0'\u001b[0m: \u001b[32m'px-4 py-2 flex space-x-2 items-center bg-emerald-50 text-slate-800'\u001b[0m, \u001b[32m'1'\u001b[0m: \u001b[32m'px-4 py-2 flex\u001b[0m\n",
       "\u001b[32mspace-x-2 items-center bg-slate-800 text-emerald-50 hover:bg-slate-700'\u001b[0m, \u001b[32m'2'\u001b[0m: \u001b[32m'px-4 py-2 flex space-x-2 \u001b[0m\n",
       "\u001b[32mitems-center bg-slate-800 text-emerald-50 hover:bg-slate-700'\u001b[0m, \u001b[32m'3'\u001b[0m: \u001b[32m'px-4 py-2 flex space-x-2 items-center \u001b[0m\n",
       "\u001b[32mbg-slate-800 text-emerald-50 hover:bg-slate-700'\u001b[0m, \u001b[32m'4'\u001b[0m: \u001b[32m'px-4 py-2 flex space-x-2 items-center bg-slate-800 \u001b[0m\n",
       "\u001b[32mtext-emerald-50 hover:bg-slate-700'\u001b[0m, \u001b[32m'5'\u001b[0m: \u001b[32m'px-4 py-2 flex space-x-2 items-center bg-slate-800 text-emerald-50 \u001b[0m\n",
       "\u001b[32mhover:bg-slate-700'\u001b[0m, \u001b[32m'6'\u001b[0m: \u001b[32m'px-4 py-2 flex space-x-2 items-center bg-slate-800 text-emerald-50 hover:bg-slate-700'\u001b[0m\u001b[1m}\u001b[0m\n"
      ]
     },
     "metadata": {},
     "output_type": "display_data"
    },
    {
     "data": {
      "text/html": [
       "<pre style=\"white-space:pre;overflow-x:auto;line-height:normal;font-family:Menlo,'DejaVu Sans Mono',consolas,'Courier New',monospace\">------------------------\n",
       "</pre>\n"
      ],
      "text/plain": [
       "------------------------\n"
      ]
     },
     "metadata": {},
     "output_type": "display_data"
    },
    {
     "data": {
      "text/html": [
       "<pre style=\"white-space:pre;overflow-x:auto;line-height:normal;font-family:Menlo,'DejaVu Sans Mono',consolas,'Courier New',monospace\">Click On New Page\n",
       "</pre>\n"
      ],
      "text/plain": [
       "Click On New Page\n"
      ]
     },
     "metadata": {},
     "output_type": "display_data"
    },
    {
     "data": {
      "text/html": [
       "<pre style=\"white-space:pre;overflow-x:auto;line-height:normal;font-family:Menlo,'DejaVu Sans Mono',consolas,'Courier New',monospace\">pathname: <span style=\"color: #800080; text-decoration-color: #800080\">/</span><span style=\"color: #ff00ff; text-decoration-color: #ff00ff\">5</span>\n",
       "</pre>\n"
      ],
      "text/plain": [
       "pathname: \u001b[35m/\u001b[0m\u001b[95m5\u001b[0m\n"
      ]
     },
     "metadata": {},
     "output_type": "display_data"
    },
    {
     "data": {
      "text/html": [
       "<pre style=\"white-space:pre;overflow-x:auto;line-height:normal;font-family:Menlo,'DejaVu Sans Mono',consolas,'Courier New',monospace\">Callback Fires\n",
       "</pre>\n"
      ],
      "text/plain": [
       "Callback Fires\n"
      ]
     },
     "metadata": {},
     "output_type": "display_data"
    },
    {
     "data": {
      "text/html": [
       "<pre style=\"white-space:pre;overflow-x:auto;line-height:normal;font-family:Menlo,'DejaVu Sans Mono',consolas,'Courier New',monospace\">output_icon_src: <span style=\"font-weight: bold\">{</span><span style=\"color: #008000; text-decoration-color: #008000\">'0'</span>: <span style=\"color: #008000; text-decoration-color: #008000\">'/assets/images/0_light.svg'</span>, <span style=\"color: #008000; text-decoration-color: #008000\">'1'</span>: <span style=\"color: #008000; text-decoration-color: #008000\">'/assets/images/1_light.svg'</span>, <span style=\"color: #008000; text-decoration-color: #008000\">'2'</span>: \n",
       "<span style=\"color: #008000; text-decoration-color: #008000\">'/assets/images/2_light.svg'</span>, <span style=\"color: #008000; text-decoration-color: #008000\">'3'</span>: <span style=\"color: #008000; text-decoration-color: #008000\">'/assets/images/3_light.svg'</span>, <span style=\"color: #008000; text-decoration-color: #008000\">'4'</span>: <span style=\"color: #008000; text-decoration-color: #008000\">'/assets/images/4_light.svg'</span>, <span style=\"color: #008000; text-decoration-color: #008000\">'5'</span>: \n",
       "<span style=\"color: #008000; text-decoration-color: #008000\">'/assets/images/5_dark.svg'</span>, <span style=\"color: #008000; text-decoration-color: #008000\">'6'</span>: <span style=\"color: #008000; text-decoration-color: #008000\">'/assets/images/6_light.svg'</span><span style=\"font-weight: bold\">}</span>\n",
       "</pre>\n"
      ],
      "text/plain": [
       "output_icon_src: \u001b[1m{\u001b[0m\u001b[32m'0'\u001b[0m: \u001b[32m'/assets/images/0_light.svg'\u001b[0m, \u001b[32m'1'\u001b[0m: \u001b[32m'/assets/images/1_light.svg'\u001b[0m, \u001b[32m'2'\u001b[0m: \n",
       "\u001b[32m'/assets/images/2_light.svg'\u001b[0m, \u001b[32m'3'\u001b[0m: \u001b[32m'/assets/images/3_light.svg'\u001b[0m, \u001b[32m'4'\u001b[0m: \u001b[32m'/assets/images/4_light.svg'\u001b[0m, \u001b[32m'5'\u001b[0m: \n",
       "\u001b[32m'/assets/images/5_dark.svg'\u001b[0m, \u001b[32m'6'\u001b[0m: \u001b[32m'/assets/images/6_light.svg'\u001b[0m\u001b[1m}\u001b[0m\n"
      ]
     },
     "metadata": {},
     "output_type": "display_data"
    },
    {
     "data": {
      "text/html": [
       "<pre style=\"white-space:pre;overflow-x:auto;line-height:normal;font-family:Menlo,'DejaVu Sans Mono',consolas,'Courier New',monospace\">output_link_class: <span style=\"font-weight: bold\">{</span><span style=\"color: #008000; text-decoration-color: #008000\">'0'</span>: <span style=\"color: #008000; text-decoration-color: #008000\">'px-4 py-2 flex space-x-2 items-center bg-slate-800 text-emerald-50 hover:bg-slate-700'</span>, \n",
       "<span style=\"color: #008000; text-decoration-color: #008000\">'1'</span>: <span style=\"color: #008000; text-decoration-color: #008000\">'px-4 py-2 flex space-x-2 items-center bg-slate-800 text-emerald-50 hover:bg-slate-700'</span>, <span style=\"color: #008000; text-decoration-color: #008000\">'2'</span>: <span style=\"color: #008000; text-decoration-color: #008000\">'px-4 py-2 flex </span>\n",
       "<span style=\"color: #008000; text-decoration-color: #008000\">space-x-2 items-center bg-slate-800 text-emerald-50 hover:bg-slate-700'</span>, <span style=\"color: #008000; text-decoration-color: #008000\">'3'</span>: <span style=\"color: #008000; text-decoration-color: #008000\">'px-4 py-2 flex space-x-2 </span>\n",
       "<span style=\"color: #008000; text-decoration-color: #008000\">items-center bg-slate-800 text-emerald-50 hover:bg-slate-700'</span>, <span style=\"color: #008000; text-decoration-color: #008000\">'4'</span>: <span style=\"color: #008000; text-decoration-color: #008000\">'px-4 py-2 flex space-x-2 items-center </span>\n",
       "<span style=\"color: #008000; text-decoration-color: #008000\">bg-slate-800 text-emerald-50 hover:bg-slate-700'</span>, <span style=\"color: #008000; text-decoration-color: #008000\">'5'</span>: <span style=\"color: #008000; text-decoration-color: #008000\">'px-4 py-2 flex space-x-2 items-center bg-emerald-50 </span>\n",
       "<span style=\"color: #008000; text-decoration-color: #008000\">text-slate-800'</span>, <span style=\"color: #008000; text-decoration-color: #008000\">'6'</span>: <span style=\"color: #008000; text-decoration-color: #008000\">'px-4 py-2 flex space-x-2 items-center bg-slate-800 text-emerald-50 hover:bg-slate-700'</span><span style=\"font-weight: bold\">}</span>\n",
       "</pre>\n"
      ],
      "text/plain": [
       "output_link_class: \u001b[1m{\u001b[0m\u001b[32m'0'\u001b[0m: \u001b[32m'px-4 py-2 flex space-x-2 items-center bg-slate-800 text-emerald-50 hover:bg-slate-700'\u001b[0m, \n",
       "\u001b[32m'1'\u001b[0m: \u001b[32m'px-4 py-2 flex space-x-2 items-center bg-slate-800 text-emerald-50 hover:bg-slate-700'\u001b[0m, \u001b[32m'2'\u001b[0m: \u001b[32m'px-4 py-2 flex \u001b[0m\n",
       "\u001b[32mspace-x-2 items-center bg-slate-800 text-emerald-50 hover:bg-slate-700'\u001b[0m, \u001b[32m'3'\u001b[0m: \u001b[32m'px-4 py-2 flex space-x-2 \u001b[0m\n",
       "\u001b[32mitems-center bg-slate-800 text-emerald-50 hover:bg-slate-700'\u001b[0m, \u001b[32m'4'\u001b[0m: \u001b[32m'px-4 py-2 flex space-x-2 items-center \u001b[0m\n",
       "\u001b[32mbg-slate-800 text-emerald-50 hover:bg-slate-700'\u001b[0m, \u001b[32m'5'\u001b[0m: \u001b[32m'px-4 py-2 flex space-x-2 items-center bg-emerald-50 \u001b[0m\n",
       "\u001b[32mtext-slate-800'\u001b[0m, \u001b[32m'6'\u001b[0m: \u001b[32m'px-4 py-2 flex space-x-2 items-center bg-slate-800 text-emerald-50 hover:bg-slate-700'\u001b[0m\u001b[1m}\u001b[0m\n"
      ]
     },
     "metadata": {},
     "output_type": "display_data"
    },
    {
     "data": {
      "text/html": [
       "<pre style=\"white-space:pre;overflow-x:auto;line-height:normal;font-family:Menlo,'DejaVu Sans Mono',consolas,'Courier New',monospace\">------------------------\n",
       "</pre>\n"
      ],
      "text/plain": [
       "------------------------\n"
      ]
     },
     "metadata": {},
     "output_type": "display_data"
    },
    {
     "data": {
      "text/html": [
       "<pre style=\"white-space:pre;overflow-x:auto;line-height:normal;font-family:Menlo,'DejaVu Sans Mono',consolas,'Courier New',monospace\">\n",
       "</pre>\n"
      ],
      "text/plain": [
       "\n"
      ]
     },
     "metadata": {},
     "output_type": "display_data"
    }
   ],
   "source": [
    "print(\"Load Page\")\n",
    "print(f\"starting pathname: {pathname}\")\n",
    "print(f\"starting input_icon_src: {input_icon_src}\")\n",
    "print(f\"starting input_link_class: {input_link_class}\")\n",
    "print(\"On Load, Callback Fires\")\n",
    "output = update_sidebar_style(pathname, input_icon_src, input_link_class)\n",
    "print(f\"output_icon_src: {output['output_icon_src']}\")\n",
    "print(f\"output_link_class: {output['output_link_class']}\")\n",
    "print(\"------------------------\")\n",
    "for _ in range(5):\n",
    "    print(\"Click On New Page\")\n",
    "    pathname, available_paths = click_new_page(pathname, available_paths)\n",
    "    print(f\"pathname: {pathname}\")\n",
    "    print(\"Callback Fires\")\n",
    "    output = update_sidebar_style(\n",
    "        pathname, output[\"output_icon_src\"], output[\"output_link_class\"]\n",
    "    )\n",
    "    print(f\"output_icon_src: {output['output_icon_src']}\")\n",
    "    print(f\"output_link_class: {output['output_link_class']}\")\n",
    "    print(\"------------------------\")\n",
    "print(\"\")"
   ]
  },
  {
   "cell_type": "code",
   "execution_count": 5,
   "id": "945c941d-8e33-4c4a-82fb-7387c714eec8",
   "metadata": {
    "tags": []
   },
   "outputs": [
    {
     "data": {
      "text/plain": [
       "NoneType"
      ]
     },
     "execution_count": 5,
     "metadata": {},
     "output_type": "execute_result"
    }
   ],
   "source": [
    "prefix_pattern = r\"^-?([a-z:]+)\"\n",
    "add_class = \"? bird\"\n",
    "match = re.search(prefix_pattern, add_class)\n",
    "type(match)\n",
    "# prefix = match.group(1)"
   ]
  },
  {
   "cell_type": "code",
   "execution_count": null,
   "id": "6486c0b7-bc98-4e1d-8195-3721fb627771",
   "metadata": {},
   "outputs": [],
   "source": []
  }
 ],
 "metadata": {
  "kernelspec": {
   "display_name": "portfolio",
   "language": "python",
   "name": "portfolio"
  },
  "language_info": {
   "codemirror_mode": {
    "name": "ipython",
    "version": 3
   },
   "file_extension": ".py",
   "mimetype": "text/x-python",
   "name": "python",
   "nbconvert_exporter": "python",
   "pygments_lexer": "ipython3",
   "version": "3.10.12"
  }
 },
 "nbformat": 4,
 "nbformat_minor": 5
}
