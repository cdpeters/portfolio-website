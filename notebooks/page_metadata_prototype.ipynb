{
 "cells": [
  {
   "cell_type": "code",
   "execution_count": 1,
   "id": "eda646aa-9d34-4038-bb95-0b0ad088c4f4",
   "metadata": {},
   "outputs": [],
   "source": [
    "import json\n",
    "from pathlib import Path\n",
    "\n",
    "import pandas as pd\n",
    "from rich.pretty import pprint"
   ]
  },
  {
   "cell_type": "code",
   "execution_count": 2,
   "id": "321fd1d6-e44d-4664-8bbe-7b450030d84d",
   "metadata": {},
   "outputs": [
    {
     "data": {
      "text/plain": [
       "WindowsPath('C:/Users/cdpet/Documents/Post School Coursework/Portfolio Website/portfolio-website/data')"
      ]
     },
     "execution_count": 2,
     "metadata": {},
     "output_type": "execute_result"
    }
   ],
   "source": [
    "data_dir = Path.cwd().parent.joinpath(\"data\")\n",
    "data_dir"
   ]
  },
  {
   "cell_type": "code",
   "execution_count": 3,
   "id": "204a4b19-e833-4161-902b-786f1ea7d84a",
   "metadata": {},
   "outputs": [],
   "source": [
    "data_types = {\n",
    "    \"order\": pd.Int8Dtype(),\n",
    "    \"section\": pd.StringDtype(),\n",
    "    \"name\": pd.StringDtype(),\n",
    "    \"repo_link\": pd.StringDtype(),\n",
    "    \"languages_used\": pd.StringDtype(),\n",
    "    \"main_tools\": pd.StringDtype(),\n",
    "    \"concepts\": pd.StringDtype(),\n",
    "    \"website\": pd.StringDtype(),\n",
    "}"
   ]
  },
  {
   "cell_type": "code",
   "execution_count": 4,
   "id": "91d538ff-800c-4e52-9ac6-e521cae028df",
   "metadata": {},
   "outputs": [],
   "source": [
    "projects = pd.read_excel(\n",
    "    data_dir / \"test_page_metadata.xlsx\", dtype=data_types, index_col=0\n",
    ")"
   ]
  },
  {
   "cell_type": "code",
   "execution_count": 5,
   "id": "f777a40d-2c4b-40fd-8f4e-8b31db8bac4b",
   "metadata": {},
   "outputs": [
    {
     "data": {
      "text/html": [
       "<div>\n",
       "<style scoped>\n",
       "    .dataframe tbody tr th:only-of-type {\n",
       "        vertical-align: middle;\n",
       "    }\n",
       "\n",
       "    .dataframe tbody tr th {\n",
       "        vertical-align: top;\n",
       "    }\n",
       "\n",
       "    .dataframe thead th {\n",
       "        text-align: right;\n",
       "    }\n",
       "</style>\n",
       "<table border=\"1\" class=\"dataframe\">\n",
       "  <thead>\n",
       "    <tr style=\"text-align: right;\">\n",
       "      <th></th>\n",
       "      <th>sidebar</th>\n",
       "      <th>order</th>\n",
       "      <th>section</th>\n",
       "      <th>name</th>\n",
       "      <th>repo_link</th>\n",
       "      <th>languages_used</th>\n",
       "      <th>main_tools</th>\n",
       "      <th>concepts</th>\n",
       "      <th>website</th>\n",
       "    </tr>\n",
       "    <tr>\n",
       "      <th>module_name</th>\n",
       "      <th></th>\n",
       "      <th></th>\n",
       "      <th></th>\n",
       "      <th></th>\n",
       "      <th></th>\n",
       "      <th></th>\n",
       "      <th></th>\n",
       "      <th></th>\n",
       "      <th></th>\n",
       "    </tr>\n",
       "  </thead>\n",
       "  <tbody>\n",
       "    <tr>\n",
       "      <th>home</th>\n",
       "      <td>True</td>\n",
       "      <td>0</td>\n",
       "      <td>&lt;NA&gt;</td>\n",
       "      <td>Home</td>\n",
       "      <td>&lt;NA&gt;</td>\n",
       "      <td>&lt;NA&gt;</td>\n",
       "      <td>&lt;NA&gt;</td>\n",
       "      <td>&lt;NA&gt;</td>\n",
       "      <td>&lt;NA&gt;</td>\n",
       "    </tr>\n",
       "    <tr>\n",
       "      <th>background</th>\n",
       "      <td>True</td>\n",
       "      <td>1</td>\n",
       "      <td>python</td>\n",
       "      <td>Background</td>\n",
       "      <td>https://github.com/cdpeters/handbell-music-val...</td>\n",
       "      <td>python</td>\n",
       "      <td>&lt;NA&gt;</td>\n",
       "      <td>&lt;NA&gt;</td>\n",
       "      <td>&lt;NA&gt;</td>\n",
       "    </tr>\n",
       "    <tr>\n",
       "      <th>handbell_music</th>\n",
       "      <td>True</td>\n",
       "      <td>2</td>\n",
       "      <td>python</td>\n",
       "      <td>Handbell Music</td>\n",
       "      <td>https://github.com/cdpeters/mlb-the-show-analysis</td>\n",
       "      <td>python, css</td>\n",
       "      <td>pandas, httpx, selectolax</td>\n",
       "      <td>web scraping</td>\n",
       "      <td>&lt;NA&gt;</td>\n",
       "    </tr>\n",
       "    <tr>\n",
       "      <th>dashboard</th>\n",
       "      <td>True</td>\n",
       "      <td>3</td>\n",
       "      <td>javascript</td>\n",
       "      <td>Dashboard</td>\n",
       "      <td>https://github.com/cdpeters/crypto-clustering-...</td>\n",
       "      <td>javascript</td>\n",
       "      <td>pandas, splinter, selectolax, spacy</td>\n",
       "      <td>webs craping, OOP, NLP</td>\n",
       "      <td>&lt;NA&gt;</td>\n",
       "    </tr>\n",
       "    <tr>\n",
       "      <th>another</th>\n",
       "      <td>True</td>\n",
       "      <td>4</td>\n",
       "      <td>sql</td>\n",
       "      <td>Another</td>\n",
       "      <td>https://github.com/cdpeters/credit-risk-superv...</td>\n",
       "      <td>sql</td>\n",
       "      <td>pandas, sklearn</td>\n",
       "      <td>PCA, K-Means Clustering</td>\n",
       "      <td>&lt;NA&gt;</td>\n",
       "    </tr>\n",
       "    <tr>\n",
       "      <th>sample</th>\n",
       "      <td>True</td>\n",
       "      <td>5</td>\n",
       "      <td>sql</td>\n",
       "      <td>Sample</td>\n",
       "      <td>&lt;NA&gt;</td>\n",
       "      <td>sql</td>\n",
       "      <td>&lt;NA&gt;</td>\n",
       "      <td>&lt;NA&gt;</td>\n",
       "      <td>&lt;NA&gt;</td>\n",
       "    </tr>\n",
       "    <tr>\n",
       "      <th>credit_supervised</th>\n",
       "      <td>True</td>\n",
       "      <td>5</td>\n",
       "      <td>python</td>\n",
       "      <td>Credit Risk</td>\n",
       "      <td>https://github.com/cdpeters/credit-risk-superv...</td>\n",
       "      <td>python</td>\n",
       "      <td>pandas, sklearn, imblearn</td>\n",
       "      <td>resampling: oversampling, undersampling, combi...</td>\n",
       "      <td>&lt;NA&gt;</td>\n",
       "    </tr>\n",
       "  </tbody>\n",
       "</table>\n",
       "</div>"
      ],
      "text/plain": [
       "                   sidebar  order     section            name  \\\n",
       "module_name                                                     \n",
       "home                  True      0        <NA>            Home   \n",
       "background            True      1      python      Background   \n",
       "handbell_music        True      2      python  Handbell Music   \n",
       "dashboard             True      3  javascript       Dashboard   \n",
       "another               True      4         sql         Another   \n",
       "sample                True      5         sql          Sample   \n",
       "credit_supervised     True      5      python     Credit Risk   \n",
       "\n",
       "                                                           repo_link  \\\n",
       "module_name                                                            \n",
       "home                                                            <NA>   \n",
       "background         https://github.com/cdpeters/handbell-music-val...   \n",
       "handbell_music     https://github.com/cdpeters/mlb-the-show-analysis   \n",
       "dashboard          https://github.com/cdpeters/crypto-clustering-...   \n",
       "another            https://github.com/cdpeters/credit-risk-superv...   \n",
       "sample                                                          <NA>   \n",
       "credit_supervised  https://github.com/cdpeters/credit-risk-superv...   \n",
       "\n",
       "                  languages_used                           main_tools  \\\n",
       "module_name                                                             \n",
       "home                        <NA>                                 <NA>   \n",
       "background                python                                 <NA>   \n",
       "handbell_music       python, css            pandas, httpx, selectolax   \n",
       "dashboard             javascript  pandas, splinter, selectolax, spacy   \n",
       "another                      sql                      pandas, sklearn   \n",
       "sample                       sql                                 <NA>   \n",
       "credit_supervised         python            pandas, sklearn, imblearn   \n",
       "\n",
       "                                                            concepts website  \n",
       "module_name                                                                   \n",
       "home                                                            <NA>    <NA>  \n",
       "background                                                      <NA>    <NA>  \n",
       "handbell_music                                          web scraping    <NA>  \n",
       "dashboard                                     webs craping, OOP, NLP    <NA>  \n",
       "another                                      PCA, K-Means Clustering    <NA>  \n",
       "sample                                                          <NA>    <NA>  \n",
       "credit_supervised  resampling: oversampling, undersampling, combi...    <NA>  "
      ]
     },
     "execution_count": 5,
     "metadata": {},
     "output_type": "execute_result"
    }
   ],
   "source": [
    "projects"
   ]
  },
  {
   "cell_type": "code",
   "execution_count": 6,
   "id": "e8276718-6137-4243-90a4-f9575d069318",
   "metadata": {},
   "outputs": [
    {
     "name": "stdout",
     "output_type": "stream",
     "text": [
      "<class 'pandas.core.frame.DataFrame'>\n",
      "Index: 7 entries, home to credit_supervised\n",
      "Data columns (total 9 columns):\n",
      " #   Column          Non-Null Count  Dtype \n",
      "---  ------          --------------  ----- \n",
      " 0   sidebar         7 non-null      bool  \n",
      " 1   order           7 non-null      Int8  \n",
      " 2   section         6 non-null      string\n",
      " 3   name            7 non-null      string\n",
      " 4   repo_link       5 non-null      string\n",
      " 5   languages_used  6 non-null      string\n",
      " 6   main_tools      4 non-null      string\n",
      " 7   concepts        4 non-null      string\n",
      " 8   website         0 non-null      string\n",
      "dtypes: Int8(1), bool(1), string(7)\n",
      "memory usage: 469.0+ bytes\n"
     ]
    }
   ],
   "source": [
    "projects.info()"
   ]
  },
  {
   "cell_type": "code",
   "execution_count": 7,
   "id": "f39acb79-5941-4f29-99d1-fa8b4c4a4c81",
   "metadata": {},
   "outputs": [],
   "source": [
    "projects.to_json(data_dir / \"page_metadata.json\", orient=\"index\")"
   ]
  },
  {
   "cell_type": "code",
   "execution_count": 8,
   "id": "f41515c4-8884-4ff3-94cd-83529722c04d",
   "metadata": {},
   "outputs": [
    {
     "data": {
      "text/html": [
       "<pre style=\"white-space:pre;overflow-x:auto;line-height:normal;font-family:Menlo,'DejaVu Sans Mono',consolas,'Courier New',monospace\"><span style=\"font-weight: bold\">{</span>\n",
       "    <span style=\"color: #008000; text-decoration-color: #008000\">'home'</span>: <span style=\"font-weight: bold\">{</span>\n",
       "        <span style=\"color: #008000; text-decoration-color: #008000\">'sidebar'</span>: <span style=\"color: #00ff00; text-decoration-color: #00ff00; font-style: italic\">True</span>,\n",
       "        <span style=\"color: #008000; text-decoration-color: #008000\">'order'</span>: <span style=\"color: #008080; text-decoration-color: #008080; font-weight: bold\">0</span>,\n",
       "        <span style=\"color: #008000; text-decoration-color: #008000\">'section'</span>: <span style=\"color: #800080; text-decoration-color: #800080; font-style: italic\">None</span>,\n",
       "        <span style=\"color: #008000; text-decoration-color: #008000\">'name'</span>: <span style=\"color: #008000; text-decoration-color: #008000\">'Home'</span>,\n",
       "        <span style=\"color: #008000; text-decoration-color: #008000\">'repo_link'</span>: <span style=\"color: #800080; text-decoration-color: #800080; font-style: italic\">None</span>,\n",
       "        <span style=\"color: #008000; text-decoration-color: #008000\">'languages_used'</span>: <span style=\"color: #800080; text-decoration-color: #800080; font-style: italic\">None</span>,\n",
       "        <span style=\"color: #008000; text-decoration-color: #008000\">'main_tools'</span>: <span style=\"color: #800080; text-decoration-color: #800080; font-style: italic\">None</span>,\n",
       "        <span style=\"color: #008000; text-decoration-color: #008000\">'concepts'</span>: <span style=\"color: #800080; text-decoration-color: #800080; font-style: italic\">None</span>,\n",
       "        <span style=\"color: #008000; text-decoration-color: #008000\">'website'</span>: <span style=\"color: #800080; text-decoration-color: #800080; font-style: italic\">None</span>\n",
       "    <span style=\"font-weight: bold\">}</span>,\n",
       "    <span style=\"color: #008000; text-decoration-color: #008000\">'background'</span>: <span style=\"font-weight: bold\">{</span>\n",
       "        <span style=\"color: #008000; text-decoration-color: #008000\">'sidebar'</span>: <span style=\"color: #00ff00; text-decoration-color: #00ff00; font-style: italic\">True</span>,\n",
       "        <span style=\"color: #008000; text-decoration-color: #008000\">'order'</span>: <span style=\"color: #008080; text-decoration-color: #008080; font-weight: bold\">1</span>,\n",
       "        <span style=\"color: #008000; text-decoration-color: #008000\">'section'</span>: <span style=\"color: #008000; text-decoration-color: #008000\">'python'</span>,\n",
       "        <span style=\"color: #008000; text-decoration-color: #008000\">'name'</span>: <span style=\"color: #008000; text-decoration-color: #008000\">'Background'</span>,\n",
       "        <span style=\"color: #008000; text-decoration-color: #008000\">'repo_link'</span>: <span style=\"color: #008000; text-decoration-color: #008000\">'https://github.com/cdpeters/handbell-music-validation'</span>,\n",
       "        <span style=\"color: #008000; text-decoration-color: #008000\">'languages_used'</span>: <span style=\"color: #008000; text-decoration-color: #008000\">'python'</span>,\n",
       "        <span style=\"color: #008000; text-decoration-color: #008000\">'main_tools'</span>: <span style=\"color: #800080; text-decoration-color: #800080; font-style: italic\">None</span>,\n",
       "        <span style=\"color: #008000; text-decoration-color: #008000\">'concepts'</span>: <span style=\"color: #800080; text-decoration-color: #800080; font-style: italic\">None</span>,\n",
       "        <span style=\"color: #008000; text-decoration-color: #008000\">'website'</span>: <span style=\"color: #800080; text-decoration-color: #800080; font-style: italic\">None</span>\n",
       "    <span style=\"font-weight: bold\">}</span>,\n",
       "    <span style=\"color: #008000; text-decoration-color: #008000\">'handbell_music'</span>: <span style=\"font-weight: bold\">{</span>\n",
       "        <span style=\"color: #008000; text-decoration-color: #008000\">'sidebar'</span>: <span style=\"color: #00ff00; text-decoration-color: #00ff00; font-style: italic\">True</span>,\n",
       "        <span style=\"color: #008000; text-decoration-color: #008000\">'order'</span>: <span style=\"color: #008080; text-decoration-color: #008080; font-weight: bold\">2</span>,\n",
       "        <span style=\"color: #008000; text-decoration-color: #008000\">'section'</span>: <span style=\"color: #008000; text-decoration-color: #008000\">'python'</span>,\n",
       "        <span style=\"color: #008000; text-decoration-color: #008000\">'name'</span>: <span style=\"color: #008000; text-decoration-color: #008000\">'Handbell Music'</span>,\n",
       "        <span style=\"color: #008000; text-decoration-color: #008000\">'repo_link'</span>: <span style=\"color: #008000; text-decoration-color: #008000\">'https://github.com/cdpeters/mlb-the-show-analysis'</span>,\n",
       "        <span style=\"color: #008000; text-decoration-color: #008000\">'languages_used'</span>: <span style=\"color: #008000; text-decoration-color: #008000\">'python, css'</span>,\n",
       "        <span style=\"color: #008000; text-decoration-color: #008000\">'main_tools'</span>: <span style=\"color: #008000; text-decoration-color: #008000\">'pandas, httpx, selectolax'</span>,\n",
       "        <span style=\"color: #008000; text-decoration-color: #008000\">'concepts'</span>: <span style=\"color: #008000; text-decoration-color: #008000\">'web scraping'</span>,\n",
       "        <span style=\"color: #008000; text-decoration-color: #008000\">'website'</span>: <span style=\"color: #800080; text-decoration-color: #800080; font-style: italic\">None</span>\n",
       "    <span style=\"font-weight: bold\">}</span>,\n",
       "    <span style=\"color: #008000; text-decoration-color: #008000\">'dashboard'</span>: <span style=\"font-weight: bold\">{</span>\n",
       "        <span style=\"color: #008000; text-decoration-color: #008000\">'sidebar'</span>: <span style=\"color: #00ff00; text-decoration-color: #00ff00; font-style: italic\">True</span>,\n",
       "        <span style=\"color: #008000; text-decoration-color: #008000\">'order'</span>: <span style=\"color: #008080; text-decoration-color: #008080; font-weight: bold\">3</span>,\n",
       "        <span style=\"color: #008000; text-decoration-color: #008000\">'section'</span>: <span style=\"color: #008000; text-decoration-color: #008000\">'javascript'</span>,\n",
       "        <span style=\"color: #008000; text-decoration-color: #008000\">'name'</span>: <span style=\"color: #008000; text-decoration-color: #008000\">'Dashboard'</span>,\n",
       "        <span style=\"color: #008000; text-decoration-color: #008000\">'repo_link'</span>: <span style=\"color: #008000; text-decoration-color: #008000\">'https://github.com/cdpeters/crypto-clustering-unsupervised-ML-sklearn'</span>,\n",
       "        <span style=\"color: #008000; text-decoration-color: #008000\">'languages_used'</span>: <span style=\"color: #008000; text-decoration-color: #008000\">'javascript'</span>,\n",
       "        <span style=\"color: #008000; text-decoration-color: #008000\">'main_tools'</span>: <span style=\"color: #008000; text-decoration-color: #008000\">'pandas, splinter, selectolax, spacy'</span>,\n",
       "        <span style=\"color: #008000; text-decoration-color: #008000\">'concepts'</span>: <span style=\"color: #008000; text-decoration-color: #008000\">'webs craping, OOP, NLP'</span>,\n",
       "        <span style=\"color: #008000; text-decoration-color: #008000\">'website'</span>: <span style=\"color: #800080; text-decoration-color: #800080; font-style: italic\">None</span>\n",
       "    <span style=\"font-weight: bold\">}</span>,\n",
       "    <span style=\"color: #008000; text-decoration-color: #008000\">'another'</span>: <span style=\"font-weight: bold\">{</span>\n",
       "        <span style=\"color: #008000; text-decoration-color: #008000\">'sidebar'</span>: <span style=\"color: #00ff00; text-decoration-color: #00ff00; font-style: italic\">True</span>,\n",
       "        <span style=\"color: #008000; text-decoration-color: #008000\">'order'</span>: <span style=\"color: #008080; text-decoration-color: #008080; font-weight: bold\">4</span>,\n",
       "        <span style=\"color: #008000; text-decoration-color: #008000\">'section'</span>: <span style=\"color: #008000; text-decoration-color: #008000\">'sql'</span>,\n",
       "        <span style=\"color: #008000; text-decoration-color: #008000\">'name'</span>: <span style=\"color: #008000; text-decoration-color: #008000\">'Another'</span>,\n",
       "        <span style=\"color: #008000; text-decoration-color: #008000\">'repo_link'</span>: <span style=\"color: #008000; text-decoration-color: #008000\">'https://github.com/cdpeters/credit-risk-supervised-ML-sklearn'</span>,\n",
       "        <span style=\"color: #008000; text-decoration-color: #008000\">'languages_used'</span>: <span style=\"color: #008000; text-decoration-color: #008000\">'sql'</span>,\n",
       "        <span style=\"color: #008000; text-decoration-color: #008000\">'main_tools'</span>: <span style=\"color: #008000; text-decoration-color: #008000\">'pandas, sklearn'</span>,\n",
       "        <span style=\"color: #008000; text-decoration-color: #008000\">'concepts'</span>: <span style=\"color: #008000; text-decoration-color: #008000\">'PCA, K-Means Clustering'</span>,\n",
       "        <span style=\"color: #008000; text-decoration-color: #008000\">'website'</span>: <span style=\"color: #800080; text-decoration-color: #800080; font-style: italic\">None</span>\n",
       "    <span style=\"font-weight: bold\">}</span>,\n",
       "    <span style=\"color: #008000; text-decoration-color: #008000\">'sample'</span>: <span style=\"font-weight: bold\">{</span>\n",
       "        <span style=\"color: #008000; text-decoration-color: #008000\">'sidebar'</span>: <span style=\"color: #00ff00; text-decoration-color: #00ff00; font-style: italic\">True</span>,\n",
       "        <span style=\"color: #008000; text-decoration-color: #008000\">'order'</span>: <span style=\"color: #008080; text-decoration-color: #008080; font-weight: bold\">5</span>,\n",
       "        <span style=\"color: #008000; text-decoration-color: #008000\">'section'</span>: <span style=\"color: #008000; text-decoration-color: #008000\">'sql'</span>,\n",
       "        <span style=\"color: #008000; text-decoration-color: #008000\">'name'</span>: <span style=\"color: #008000; text-decoration-color: #008000\">'Sample'</span>,\n",
       "        <span style=\"color: #008000; text-decoration-color: #008000\">'repo_link'</span>: <span style=\"color: #800080; text-decoration-color: #800080; font-style: italic\">None</span>,\n",
       "        <span style=\"color: #008000; text-decoration-color: #008000\">'languages_used'</span>: <span style=\"color: #008000; text-decoration-color: #008000\">'sql'</span>,\n",
       "        <span style=\"color: #008000; text-decoration-color: #008000\">'main_tools'</span>: <span style=\"color: #800080; text-decoration-color: #800080; font-style: italic\">None</span>,\n",
       "        <span style=\"color: #008000; text-decoration-color: #008000\">'concepts'</span>: <span style=\"color: #800080; text-decoration-color: #800080; font-style: italic\">None</span>,\n",
       "        <span style=\"color: #008000; text-decoration-color: #008000\">'website'</span>: <span style=\"color: #800080; text-decoration-color: #800080; font-style: italic\">None</span>\n",
       "    <span style=\"font-weight: bold\">}</span>,\n",
       "    <span style=\"color: #008000; text-decoration-color: #008000\">'credit_supervised'</span>: <span style=\"font-weight: bold\">{</span>\n",
       "        <span style=\"color: #008000; text-decoration-color: #008000\">'sidebar'</span>: <span style=\"color: #00ff00; text-decoration-color: #00ff00; font-style: italic\">True</span>,\n",
       "        <span style=\"color: #008000; text-decoration-color: #008000\">'order'</span>: <span style=\"color: #008080; text-decoration-color: #008080; font-weight: bold\">5</span>,\n",
       "        <span style=\"color: #008000; text-decoration-color: #008000\">'section'</span>: <span style=\"color: #008000; text-decoration-color: #008000\">'python'</span>,\n",
       "        <span style=\"color: #008000; text-decoration-color: #008000\">'name'</span>: <span style=\"color: #008000; text-decoration-color: #008000\">'Credit Risk'</span>,\n",
       "        <span style=\"color: #008000; text-decoration-color: #008000\">'repo_link'</span>: <span style=\"color: #008000; text-decoration-color: #008000\">'https://github.com/cdpeters/credit-risk-supervised-ML-sklearn'</span>,\n",
       "        <span style=\"color: #008000; text-decoration-color: #008000\">'languages_used'</span>: <span style=\"color: #008000; text-decoration-color: #008000\">'python'</span>,\n",
       "        <span style=\"color: #008000; text-decoration-color: #008000\">'main_tools'</span>: <span style=\"color: #008000; text-decoration-color: #008000\">'pandas, sklearn, imblearn'</span>,\n",
       "        <span style=\"color: #008000; text-decoration-color: #008000\">'concepts'</span>: <span style=\"color: #008000; text-decoration-color: #008000\">'resampling: oversampling, undersampling, combination sampling ensemble methods: random forest, AdaBoost'</span>,\n",
       "        <span style=\"color: #008000; text-decoration-color: #008000\">'website'</span>: <span style=\"color: #800080; text-decoration-color: #800080; font-style: italic\">None</span>\n",
       "    <span style=\"font-weight: bold\">}</span>\n",
       "<span style=\"font-weight: bold\">}</span>\n",
       "</pre>\n"
      ],
      "text/plain": [
       "\u001b[1m{\u001b[0m\n",
       "    \u001b[32m'home'\u001b[0m: \u001b[1m{\u001b[0m\n",
       "        \u001b[32m'sidebar'\u001b[0m: \u001b[3;92mTrue\u001b[0m,\n",
       "        \u001b[32m'order'\u001b[0m: \u001b[1;36m0\u001b[0m,\n",
       "        \u001b[32m'section'\u001b[0m: \u001b[3;35mNone\u001b[0m,\n",
       "        \u001b[32m'name'\u001b[0m: \u001b[32m'Home'\u001b[0m,\n",
       "        \u001b[32m'repo_link'\u001b[0m: \u001b[3;35mNone\u001b[0m,\n",
       "        \u001b[32m'languages_used'\u001b[0m: \u001b[3;35mNone\u001b[0m,\n",
       "        \u001b[32m'main_tools'\u001b[0m: \u001b[3;35mNone\u001b[0m,\n",
       "        \u001b[32m'concepts'\u001b[0m: \u001b[3;35mNone\u001b[0m,\n",
       "        \u001b[32m'website'\u001b[0m: \u001b[3;35mNone\u001b[0m\n",
       "    \u001b[1m}\u001b[0m,\n",
       "    \u001b[32m'background'\u001b[0m: \u001b[1m{\u001b[0m\n",
       "        \u001b[32m'sidebar'\u001b[0m: \u001b[3;92mTrue\u001b[0m,\n",
       "        \u001b[32m'order'\u001b[0m: \u001b[1;36m1\u001b[0m,\n",
       "        \u001b[32m'section'\u001b[0m: \u001b[32m'python'\u001b[0m,\n",
       "        \u001b[32m'name'\u001b[0m: \u001b[32m'Background'\u001b[0m,\n",
       "        \u001b[32m'repo_link'\u001b[0m: \u001b[32m'https://github.com/cdpeters/handbell-music-validation'\u001b[0m,\n",
       "        \u001b[32m'languages_used'\u001b[0m: \u001b[32m'python'\u001b[0m,\n",
       "        \u001b[32m'main_tools'\u001b[0m: \u001b[3;35mNone\u001b[0m,\n",
       "        \u001b[32m'concepts'\u001b[0m: \u001b[3;35mNone\u001b[0m,\n",
       "        \u001b[32m'website'\u001b[0m: \u001b[3;35mNone\u001b[0m\n",
       "    \u001b[1m}\u001b[0m,\n",
       "    \u001b[32m'handbell_music'\u001b[0m: \u001b[1m{\u001b[0m\n",
       "        \u001b[32m'sidebar'\u001b[0m: \u001b[3;92mTrue\u001b[0m,\n",
       "        \u001b[32m'order'\u001b[0m: \u001b[1;36m2\u001b[0m,\n",
       "        \u001b[32m'section'\u001b[0m: \u001b[32m'python'\u001b[0m,\n",
       "        \u001b[32m'name'\u001b[0m: \u001b[32m'Handbell Music'\u001b[0m,\n",
       "        \u001b[32m'repo_link'\u001b[0m: \u001b[32m'https://github.com/cdpeters/mlb-the-show-analysis'\u001b[0m,\n",
       "        \u001b[32m'languages_used'\u001b[0m: \u001b[32m'python, css'\u001b[0m,\n",
       "        \u001b[32m'main_tools'\u001b[0m: \u001b[32m'pandas, httpx, selectolax'\u001b[0m,\n",
       "        \u001b[32m'concepts'\u001b[0m: \u001b[32m'web scraping'\u001b[0m,\n",
       "        \u001b[32m'website'\u001b[0m: \u001b[3;35mNone\u001b[0m\n",
       "    \u001b[1m}\u001b[0m,\n",
       "    \u001b[32m'dashboard'\u001b[0m: \u001b[1m{\u001b[0m\n",
       "        \u001b[32m'sidebar'\u001b[0m: \u001b[3;92mTrue\u001b[0m,\n",
       "        \u001b[32m'order'\u001b[0m: \u001b[1;36m3\u001b[0m,\n",
       "        \u001b[32m'section'\u001b[0m: \u001b[32m'javascript'\u001b[0m,\n",
       "        \u001b[32m'name'\u001b[0m: \u001b[32m'Dashboard'\u001b[0m,\n",
       "        \u001b[32m'repo_link'\u001b[0m: \u001b[32m'https://github.com/cdpeters/crypto-clustering-unsupervised-ML-sklearn'\u001b[0m,\n",
       "        \u001b[32m'languages_used'\u001b[0m: \u001b[32m'javascript'\u001b[0m,\n",
       "        \u001b[32m'main_tools'\u001b[0m: \u001b[32m'pandas, splinter, selectolax, spacy'\u001b[0m,\n",
       "        \u001b[32m'concepts'\u001b[0m: \u001b[32m'webs craping, OOP, NLP'\u001b[0m,\n",
       "        \u001b[32m'website'\u001b[0m: \u001b[3;35mNone\u001b[0m\n",
       "    \u001b[1m}\u001b[0m,\n",
       "    \u001b[32m'another'\u001b[0m: \u001b[1m{\u001b[0m\n",
       "        \u001b[32m'sidebar'\u001b[0m: \u001b[3;92mTrue\u001b[0m,\n",
       "        \u001b[32m'order'\u001b[0m: \u001b[1;36m4\u001b[0m,\n",
       "        \u001b[32m'section'\u001b[0m: \u001b[32m'sql'\u001b[0m,\n",
       "        \u001b[32m'name'\u001b[0m: \u001b[32m'Another'\u001b[0m,\n",
       "        \u001b[32m'repo_link'\u001b[0m: \u001b[32m'https://github.com/cdpeters/credit-risk-supervised-ML-sklearn'\u001b[0m,\n",
       "        \u001b[32m'languages_used'\u001b[0m: \u001b[32m'sql'\u001b[0m,\n",
       "        \u001b[32m'main_tools'\u001b[0m: \u001b[32m'pandas, sklearn'\u001b[0m,\n",
       "        \u001b[32m'concepts'\u001b[0m: \u001b[32m'PCA, K-Means Clustering'\u001b[0m,\n",
       "        \u001b[32m'website'\u001b[0m: \u001b[3;35mNone\u001b[0m\n",
       "    \u001b[1m}\u001b[0m,\n",
       "    \u001b[32m'sample'\u001b[0m: \u001b[1m{\u001b[0m\n",
       "        \u001b[32m'sidebar'\u001b[0m: \u001b[3;92mTrue\u001b[0m,\n",
       "        \u001b[32m'order'\u001b[0m: \u001b[1;36m5\u001b[0m,\n",
       "        \u001b[32m'section'\u001b[0m: \u001b[32m'sql'\u001b[0m,\n",
       "        \u001b[32m'name'\u001b[0m: \u001b[32m'Sample'\u001b[0m,\n",
       "        \u001b[32m'repo_link'\u001b[0m: \u001b[3;35mNone\u001b[0m,\n",
       "        \u001b[32m'languages_used'\u001b[0m: \u001b[32m'sql'\u001b[0m,\n",
       "        \u001b[32m'main_tools'\u001b[0m: \u001b[3;35mNone\u001b[0m,\n",
       "        \u001b[32m'concepts'\u001b[0m: \u001b[3;35mNone\u001b[0m,\n",
       "        \u001b[32m'website'\u001b[0m: \u001b[3;35mNone\u001b[0m\n",
       "    \u001b[1m}\u001b[0m,\n",
       "    \u001b[32m'credit_supervised'\u001b[0m: \u001b[1m{\u001b[0m\n",
       "        \u001b[32m'sidebar'\u001b[0m: \u001b[3;92mTrue\u001b[0m,\n",
       "        \u001b[32m'order'\u001b[0m: \u001b[1;36m5\u001b[0m,\n",
       "        \u001b[32m'section'\u001b[0m: \u001b[32m'python'\u001b[0m,\n",
       "        \u001b[32m'name'\u001b[0m: \u001b[32m'Credit Risk'\u001b[0m,\n",
       "        \u001b[32m'repo_link'\u001b[0m: \u001b[32m'https://github.com/cdpeters/credit-risk-supervised-ML-sklearn'\u001b[0m,\n",
       "        \u001b[32m'languages_used'\u001b[0m: \u001b[32m'python'\u001b[0m,\n",
       "        \u001b[32m'main_tools'\u001b[0m: \u001b[32m'pandas, sklearn, imblearn'\u001b[0m,\n",
       "        \u001b[32m'concepts'\u001b[0m: \u001b[32m'resampling: oversampling, undersampling, combination sampling ensemble methods: random forest, AdaBoost'\u001b[0m,\n",
       "        \u001b[32m'website'\u001b[0m: \u001b[3;35mNone\u001b[0m\n",
       "    \u001b[1m}\u001b[0m\n",
       "\u001b[1m}\u001b[0m\n"
      ]
     },
     "metadata": {},
     "output_type": "display_data"
    }
   ],
   "source": [
    "with open(data_dir / \"page_metadata.json\") as f:\n",
    "    PAGE_METADATA = json.load(f)\n",
    "pprint(PAGE_METADATA, indent_guides=False)"
   ]
  },
  {
   "cell_type": "code",
   "execution_count": 9,
   "id": "789a1bd1-0efc-43c8-8fac-2a2f3d8fb02a",
   "metadata": {},
   "outputs": [
    {
     "data": {
      "text/plain": [
       "('home',\n",
       " 'background',\n",
       " 'handbell_music',\n",
       " 'dashboard',\n",
       " 'another',\n",
       " 'sample',\n",
       " 'credit_supervised')"
      ]
     },
     "execution_count": 9,
     "metadata": {},
     "output_type": "execute_result"
    }
   ],
   "source": [
    "PAGE_NAMES = tuple([page for page in PAGE_METADATA])\n",
    "PAGE_NAMES"
   ]
  },
  {
   "cell_type": "code",
   "execution_count": 10,
   "id": "50f35659-9577-4a1a-aa0b-fb25537e0c2f",
   "metadata": {},
   "outputs": [],
   "source": [
    "pages_markdown_dir = Path.cwd().parent.joinpath(\"src/pages_markdown\")"
   ]
  },
  {
   "cell_type": "code",
   "execution_count": 11,
   "id": "9fc5ddca-4082-42e1-9c87-6d7e805311d5",
   "metadata": {},
   "outputs": [],
   "source": [
    "with open(pages_markdown_dir / \"sample.md\", \"r\", encoding=\"utf-8\") as f:\n",
    "    contents = f.read()"
   ]
  },
  {
   "cell_type": "code",
   "execution_count": 13,
   "id": "915f9b16-c56c-455d-a0bf-0f393395f860",
   "metadata": {},
   "outputs": [
    {
     "data": {
      "text/plain": [
       "dict_keys(['home', 'background', 'handbell_music', 'dashboard', 'another', 'sample', 'credit_supervised'])"
      ]
     },
     "execution_count": 13,
     "metadata": {},
     "output_type": "execute_result"
    }
   ],
   "source": [
    "PAGE_METADATA.keys()"
   ]
  },
  {
   "cell_type": "code",
   "execution_count": 14,
   "id": "b4b5a51a-2d1f-4f1e-946c-1934b00c6538",
   "metadata": {},
   "outputs": [
    {
     "data": {
      "text/plain": [
       "{'sidebar': True,\n",
       " 'order': 5,\n",
       " 'section': 'python',\n",
       " 'name': 'Credit Risk',\n",
       " 'repo_link': 'https://github.com/cdpeters/credit-risk-supervised-ML-sklearn',\n",
       " 'languages_used': 'python',\n",
       " 'main_tools': 'pandas, sklearn, imblearn',\n",
       " 'concepts': 'resampling: oversampling, undersampling, combination sampling ensemble methods: random forest, AdaBoost',\n",
       " 'website': None}"
      ]
     },
     "execution_count": 14,
     "metadata": {},
     "output_type": "execute_result"
    }
   ],
   "source": [
    "PAGE_METADATA[\"credit_supervised\"]"
   ]
  },
  {
   "cell_type": "code",
   "execution_count": null,
   "id": "3362e35d-5f7d-4bf7-8ffd-363f2fc035c8",
   "metadata": {},
   "outputs": [],
   "source": []
  }
 ],
 "metadata": {
  "kernelspec": {
   "display_name": "portfolio",
   "language": "python",
   "name": "portfolio"
  },
  "language_info": {
   "codemirror_mode": {
    "name": "ipython",
    "version": 3
   },
   "file_extension": ".py",
   "mimetype": "text/x-python",
   "name": "python",
   "nbconvert_exporter": "python",
   "pygments_lexer": "ipython3",
   "version": "3.11.5"
  }
 },
 "nbformat": 4,
 "nbformat_minor": 5
}
